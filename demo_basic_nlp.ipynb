{
  "nbformat": 4,
  "nbformat_minor": 0,
  "metadata": {
    "kernelspec": {
      "display_name": "Python 3",
      "language": "python",
      "name": "python3"
    },
    "language_info": {
      "codemirror_mode": {
        "name": "ipython",
        "version": 3
      },
      "file_extension": ".py",
      "mimetype": "text/x-python",
      "name": "python",
      "nbconvert_exporter": "python",
      "pygments_lexer": "ipython3",
      "version": "3.6.9"
    },
    "colab": {
      "name": "demo_basic_nlp.ipynb",
      "provenance": [],
      "include_colab_link": true
    }
  },
  "cells": [
    {
      "cell_type": "markdown",
      "metadata": {
        "id": "view-in-github",
        "colab_type": "text"
      },
      "source": [
        "<a href=\"https://colab.research.google.com/github/tamiratGit/Introduction_NLP/blob/main/demo_basic_nlp.ipynb\" target=\"_parent\"><img src=\"https://colab.research.google.com/assets/colab-badge.svg\" alt=\"Open In Colab\"/></a>"
      ]
    },
    {
      "cell_type": "markdown",
      "metadata": {
        "id": "UbdnU7HznK0m"
      },
      "source": [
        "# Basic NLP exercises\n",
        "\n",
        "* During these exercises, you will learn basic Python skills required in NLP, for example\n",
        "  * Reading and processing language data\n",
        "  * Segmenting text\n",
        "  * Calculating word frequencies and idf weights\n",
        "\n",
        "* Exercises are based on tweets downloaded using Twitter API. Both Finnish and English tweets are available, you are free to choose which language you want to work with.\n",
        "\n",
        "\n",
        "> Finnish: http://dl.turkunlp.org/intro-to-nlp/finnish-tweets-sample.jsonl.gz\n",
        "\n",
        "> English: http://dl.turkunlp.org/intro-to-nlp/english-tweets-sample.jsonl.gz\n",
        "\n",
        "\n",
        "* Both files include 10,000 tweets. If processing the whole file takes too much time, you can also read just a subset of the data, for example only 1,000 tweets.\n"
      ]
    },
    {
      "cell_type": "markdown",
      "metadata": {
        "id": "KmlbS9GLm596"
      },
      "source": [
        "## 1) Read tweets in Python\n",
        "\n",
        "* Download the file, and read the data in Python\n",
        "* **The outcome of this exercise** should be a list of tweets, where each tweet is a dictionary including different (key, value) pairs"
      ]
    },
    {
      "cell_type": "code",
      "metadata": {
        "id": "XhehNYtz06ce",
        "colab": {
          "base_uri": "https://localhost:8080/"
        },
        "outputId": "beaaf3b9-166b-47c1-8785-814f8c031270"
      },
      "source": [
        "!wget -nc http://dl.turkunlp.org/intro-to-nlp/english-tweets-sample.jsonl.gz\r\n",
        "\r\n",
        "import gzip\r\n",
        "import json\r\n",
        "\r\n",
        "f = gzip.open(\"english-tweets-sample.jsonl.gz\", \"rt\", encoding=\"utf-8\")\r\n",
        "\r\n",
        "lines = f.readlines()[:1000]\r\n",
        "\r\n",
        "tweets = []\r\n",
        "for line in lines:\r\n",
        "  #data = json.loads(line) #Json.load(f)\r\n",
        "  tweets.append(json.loads(line))\r\n",
        "\r\n",
        "print(len(lines))\r\n",
        "print(type(lines[0]))\r\n",
        "print(lines[0])\r\n",
        "\r\n",
        "print(len(tweets))\r\n",
        "print(type(tweets[0]))\r\n",
        "print(tweets[0])\r\n",
        "\r\n"
      ],
      "execution_count": 2,
      "outputs": [
        {
          "output_type": "stream",
          "text": [
            "--2021-02-07 18:29:05--  http://dl.turkunlp.org/intro-to-nlp/english-tweets-sample.jsonl.gz\n",
            "Resolving dl.turkunlp.org (dl.turkunlp.org)... 195.148.30.23\n",
            "Connecting to dl.turkunlp.org (dl.turkunlp.org)|195.148.30.23|:80... connected.\n",
            "HTTP request sent, awaiting response... 200 OK\n",
            "Length: 6831444 (6.5M) [application/octet-stream]\n",
            "Saving to: ‘english-tweets-sample.jsonl.gz’\n",
            "\n",
            "english-tweets-samp 100%[===================>]   6.51M  5.39MB/s    in 1.2s    \n",
            "\n",
            "2021-02-07 18:29:06 (5.39 MB/s) - ‘english-tweets-sample.jsonl.gz’ saved [6831444/6831444]\n",
            "\n",
            "1000\n",
            "<class 'str'>\n",
            "{\"created_at\":\"Tue Dec 26 14:16:22 +0000 2017\",\"id\":945659557480611840,\"id_str\":\"945659557480611840\",\"text\":\"Check out my class in #GranblueFantasy! https:\\/\\/t.co\\/pAvXn8diJr\",\"display_text_range\":[0,39],\"source\":\"\\u003ca href=\\\"http:\\/\\/granbluefantasy.jp\\/\\\" rel=\\\"nofollow\\\"\\u003e\\u30b0\\u30e9\\u30f3\\u30d6\\u30eb\\u30fc \\u30d5\\u30a1\\u30f3\\u30bf\\u30b8\\u30fc\\u003c\\/a\\u003e\",\"truncated\":false,\"in_reply_to_status_id\":null,\"in_reply_to_status_id_str\":null,\"in_reply_to_user_id\":null,\"in_reply_to_user_id_str\":null,\"in_reply_to_screen_name\":null,\"user\":{\"id\":883980236655779840,\"id_str\":\"883980236655779840\",\"name\":\"Pc Kwok\",\"screen_name\":\"jensenpck\",\"location\":null,\"url\":null,\"description\":null,\"translator_type\":\"none\",\"protected\":false,\"verified\":false,\"followers_count\":0,\"friends_count\":1,\"listed_count\":0,\"favourites_count\":0,\"statuses_count\":42,\"created_at\":\"Sun Jul 09 09:24:46 +0000 2017\",\"utc_offset\":null,\"time_zone\":null,\"geo_enabled\":false,\"lang\":\"zh-tw\",\"contributors_enabled\":false,\"is_translator\":false,\"profile_background_color\":\"F5F8FA\",\"profile_background_image_url\":\"\",\"profile_background_image_url_https\":\"\",\"profile_background_tile\":false,\"profile_link_color\":\"1DA1F2\",\"profile_sidebar_border_color\":\"C0DEED\",\"profile_sidebar_fill_color\":\"DDEEF6\",\"profile_text_color\":\"333333\",\"profile_use_background_image\":true,\"profile_image_url\":\"http:\\/\\/abs.twimg.com\\/sticky\\/default_profile_images\\/default_profile_normal.png\",\"profile_image_url_https\":\"https:\\/\\/abs.twimg.com\\/sticky\\/default_profile_images\\/default_profile_normal.png\",\"default_profile\":true,\"default_profile_image\":false,\"following\":null,\"follow_request_sent\":null,\"notifications\":null},\"geo\":null,\"coordinates\":null,\"place\":null,\"contributors\":null,\"is_quote_status\":false,\"quote_count\":0,\"reply_count\":0,\"retweet_count\":0,\"favorite_count\":0,\"entities\":{\"hashtags\":[{\"text\":\"GranblueFantasy\",\"indices\":[22,38]}],\"urls\":[],\"user_mentions\":[],\"symbols\":[],\"media\":[{\"id\":945659555123404801,\"id_str\":\"945659555123404801\",\"indices\":[40,63],\"media_url\":\"http:\\/\\/pbs.twimg.com\\/media\\/DR-oWuWVoAEUZJd.jpg\",\"media_url_https\":\"https:\\/\\/pbs.twimg.com\\/media\\/DR-oWuWVoAEUZJd.jpg\",\"url\":\"https:\\/\\/t.co\\/pAvXn8diJr\",\"display_url\":\"pic.twitter.com\\/pAvXn8diJr\",\"expanded_url\":\"https:\\/\\/twitter.com\\/jensenpck\\/status\\/945659557480611840\\/photo\\/1\",\"type\":\"photo\",\"sizes\":{\"small\":{\"w\":680,\"h\":340,\"resize\":\"fit\"},\"thumb\":{\"w\":150,\"h\":150,\"resize\":\"crop\"},\"medium\":{\"w\":1024,\"h\":512,\"resize\":\"fit\"},\"large\":{\"w\":1024,\"h\":512,\"resize\":\"fit\"}}}]},\"extended_entities\":{\"media\":[{\"id\":945659555123404801,\"id_str\":\"945659555123404801\",\"indices\":[40,63],\"media_url\":\"http:\\/\\/pbs.twimg.com\\/media\\/DR-oWuWVoAEUZJd.jpg\",\"media_url_https\":\"https:\\/\\/pbs.twimg.com\\/media\\/DR-oWuWVoAEUZJd.jpg\",\"url\":\"https:\\/\\/t.co\\/pAvXn8diJr\",\"display_url\":\"pic.twitter.com\\/pAvXn8diJr\",\"expanded_url\":\"https:\\/\\/twitter.com\\/jensenpck\\/status\\/945659557480611840\\/photo\\/1\",\"type\":\"photo\",\"sizes\":{\"small\":{\"w\":680,\"h\":340,\"resize\":\"fit\"},\"thumb\":{\"w\":150,\"h\":150,\"resize\":\"crop\"},\"medium\":{\"w\":1024,\"h\":512,\"resize\":\"fit\"},\"large\":{\"w\":1024,\"h\":512,\"resize\":\"fit\"}}}]},\"favorited\":false,\"retweeted\":false,\"possibly_sensitive\":false,\"filter_level\":\"low\",\"lang\":\"en\",\"timestamp_ms\":\"1514297782665\"}\n",
            "\n",
            "1000\n",
            "<class 'dict'>\n",
            "{'created_at': 'Tue Dec 26 14:16:22 +0000 2017', 'id': 945659557480611840, 'id_str': '945659557480611840', 'text': 'Check out my class in #GranblueFantasy! https://t.co/pAvXn8diJr', 'display_text_range': [0, 39], 'source': '<a href=\"http://granbluefantasy.jp/\" rel=\"nofollow\">グランブルー ファンタジー</a>', 'truncated': False, 'in_reply_to_status_id': None, 'in_reply_to_status_id_str': None, 'in_reply_to_user_id': None, 'in_reply_to_user_id_str': None, 'in_reply_to_screen_name': None, 'user': {'id': 883980236655779840, 'id_str': '883980236655779840', 'name': 'Pc Kwok', 'screen_name': 'jensenpck', 'location': None, 'url': None, 'description': None, 'translator_type': 'none', 'protected': False, 'verified': False, 'followers_count': 0, 'friends_count': 1, 'listed_count': 0, 'favourites_count': 0, 'statuses_count': 42, 'created_at': 'Sun Jul 09 09:24:46 +0000 2017', 'utc_offset': None, 'time_zone': None, 'geo_enabled': False, 'lang': 'zh-tw', 'contributors_enabled': False, 'is_translator': False, 'profile_background_color': 'F5F8FA', 'profile_background_image_url': '', 'profile_background_image_url_https': '', 'profile_background_tile': False, 'profile_link_color': '1DA1F2', 'profile_sidebar_border_color': 'C0DEED', 'profile_sidebar_fill_color': 'DDEEF6', 'profile_text_color': '333333', 'profile_use_background_image': True, 'profile_image_url': 'http://abs.twimg.com/sticky/default_profile_images/default_profile_normal.png', 'profile_image_url_https': 'https://abs.twimg.com/sticky/default_profile_images/default_profile_normal.png', 'default_profile': True, 'default_profile_image': False, 'following': None, 'follow_request_sent': None, 'notifications': None}, 'geo': None, 'coordinates': None, 'place': None, 'contributors': None, 'is_quote_status': False, 'quote_count': 0, 'reply_count': 0, 'retweet_count': 0, 'favorite_count': 0, 'entities': {'hashtags': [{'text': 'GranblueFantasy', 'indices': [22, 38]}], 'urls': [], 'user_mentions': [], 'symbols': [], 'media': [{'id': 945659555123404801, 'id_str': '945659555123404801', 'indices': [40, 63], 'media_url': 'http://pbs.twimg.com/media/DR-oWuWVoAEUZJd.jpg', 'media_url_https': 'https://pbs.twimg.com/media/DR-oWuWVoAEUZJd.jpg', 'url': 'https://t.co/pAvXn8diJr', 'display_url': 'pic.twitter.com/pAvXn8diJr', 'expanded_url': 'https://twitter.com/jensenpck/status/945659557480611840/photo/1', 'type': 'photo', 'sizes': {'small': {'w': 680, 'h': 340, 'resize': 'fit'}, 'thumb': {'w': 150, 'h': 150, 'resize': 'crop'}, 'medium': {'w': 1024, 'h': 512, 'resize': 'fit'}, 'large': {'w': 1024, 'h': 512, 'resize': 'fit'}}}]}, 'extended_entities': {'media': [{'id': 945659555123404801, 'id_str': '945659555123404801', 'indices': [40, 63], 'media_url': 'http://pbs.twimg.com/media/DR-oWuWVoAEUZJd.jpg', 'media_url_https': 'https://pbs.twimg.com/media/DR-oWuWVoAEUZJd.jpg', 'url': 'https://t.co/pAvXn8diJr', 'display_url': 'pic.twitter.com/pAvXn8diJr', 'expanded_url': 'https://twitter.com/jensenpck/status/945659557480611840/photo/1', 'type': 'photo', 'sizes': {'small': {'w': 680, 'h': 340, 'resize': 'fit'}, 'thumb': {'w': 150, 'h': 150, 'resize': 'crop'}, 'medium': {'w': 1024, 'h': 512, 'resize': 'fit'}, 'large': {'w': 1024, 'h': 512, 'resize': 'fit'}}}]}, 'favorited': False, 'retweeted': False, 'possibly_sensitive': False, 'filter_level': 'low', 'lang': 'en', 'timestamp_ms': '1514297782665'}\n"
          ],
          "name": "stdout"
        }
      ]
    },
    {
      "cell_type": "markdown",
      "metadata": {
        "id": "X8mHlc_9m5-H"
      },
      "source": [
        "## 2) Extract texts from the tweet jsons\n",
        "\n",
        "* During these exercises we need only the actual tweet text. Inspect the dictionary and extract the actual text field for each tweet.\n",
        "* When carefully inspecting the dictionary keys and values, you may see the old Twitter character limit causing unexpect behavior for text. In these cases, are you able to extract the full text?\n",
        "* **The outcome of this exercise** should be a list of tweets, where each tweet is a string."
      ]
    },
    {
      "cell_type": "code",
      "metadata": {
        "id": "H1hCGcbcm5-J",
        "outputId": "aa9efbf4-a33b-4904-d474-4ef3df04bbfc",
        "colab": {
          "base_uri": "https://localhost:8080/"
        }
      },
      "source": [
        "\r\n",
        "texts = []\r\n",
        "for tx in tweets:\r\n",
        "  texts.append(tx[\"text\"])\r\n",
        "print(texts[:30])\r\n",
        "print(texts[7])\r\n",
        "print(type(texts))\r\n",
        "print(len(texts))"
      ],
      "execution_count": 3,
      "outputs": [
        {
          "output_type": "stream",
          "text": [
            "['Check out my class in #GranblueFantasy! https://t.co/pAvXn8diJr', 'Extending a big Thank You to our Community Partner all over the world! https://t.co/cu7on7g1si', 'Blueberry 🍨 https://t.co/2gzHAFWYJY', 'RT @LILUZIVERT: Bad day ☹️®️', \"@prologve_ @BTS_ARMY @BTS_twt I'm Chim tho\", 'i need a dog to cuddle with right now', 'RT: Country Inn countryinns #CampSprings 🏨 👉🚖 For Taxi 📞703-445-4450 https://t.co/lXdFUm4qUb', 'RT @KimKardashian: DAY 10- PENELOPE https://t.co/1z1cgzvZxh', \"RT @CBCNews: Winnipeggers wake up to the city's coldest Christmas in 2 decades https://t.co/6R0nw7xDlL https://t.co/k5UuSf3kja\", 'RT @LuvTyagiTeam: 1id 1vote for 1episode count hoga', 'Use Cases/Application Areas of #AI in Offline/#DigitalMarketing\\nhttps://t.co/oPiGtHMew1 https://t.co/37PgFq8qsh', 'RT @dianacooper55: You’re allowed to be human.', 'RT @_alinaangel: Our dad passed away earlier this summer so my mom and I decided to surprise my sisters with bears with his favorite cologn…', 'RT @PulaskiFootball: “You can’t win big games if people are coming late to a meeting or just not wearing the right socks.  If you can’t do…', \"RT @Ree_Tumii: I'm so sleepy 😭\", 'President Trump Cuts Funding to UN After Israel Vote - Newsweek https://t.co/IJGO29bcKd', 'RT @UTRUST_Official: Follow UTRUST on Bitcointalk and have your say https://t.co/v7RHlZ3Ii4 #payment #protection #blockchain #fintech https…', \"RT @ygent_official: #BLACKPINK 'SO HOT' (THEBLACKLABEL Remix) in 2017 SBS Gayodaejun\\n\\nOriginal song by Wonder Girls\\nRemix by TEDDY, 24, Dan…\", 'We were planning on driving through here. We are now not lol, they’re supposed to get over another foot. Heading so… https://t.co/edRmXJsljb', 'RT @WebcamGirlLive: YOU can Watch live #sexcams broadcasting day and night. \\n\\nThe number one place for #sex cams of nude girls broadcasting…', 'Usual military patrol course mean?\\nDared too much! KKK https://t.co/e8MQGSak1J', 'RT @_LoveLike_JESUS: .\\nMy mom raised me right,\\nEvery Christmas morning\\nshe had me place BABY\\nJESUS in the manger\\nbefore opening up the\\npres…', 'RT @meakoopa: \"I texted this boy I like but I used a semi-colon as a power move and I think I scared him off\" - my sister, 25', \"this dp didn't bring luck.\", 'RT @exonyeondan: #EXO Universe Chart Ranking 11PM KST\\n\\nMelon - #1 \\nGenie - #1\\nBugs -  #2\\nMnet - #4 \\nNaver - #1 \\nSoribada - #1 \\n\\nFinally, al…', '@geoffasenna That’s a pleasure Geoff! Merry Christmas to you :)', 'RT @lebaenesepapii: y’all could’ve just said that a transgender couple have a baby rather than giving me brain damage https://t.co/uVO2jEXL…', 'Relation inutile', 'The latest The Essentii Daily! https://t.co/AATz7oKZT1 #ausveng', 'RT @AyeJaem: Someone explain where tf my coach came from 🙂 https://t.co/8TK0E5HJhz']\n",
            "RT @KimKardashian: DAY 10- PENELOPE https://t.co/1z1cgzvZxh\n",
            "<class 'list'>\n",
            "1000\n"
          ],
          "name": "stdout"
        }
      ]
    },
    {
      "cell_type": "markdown",
      "metadata": {
        "id": "TgOU8RoAM6Lv"
      },
      "source": [
        "The library has a limitation on 140 characters. With the new feature of python, i.e. 280 characters length. https://stackoverflow.com/questions/47391092/twython-with-140-character-limitation-of-twitter"
      ]
    },
    {
      "cell_type": "markdown",
      "metadata": {
        "id": "04OtJSi8m5-O"
      },
      "source": [
        "## 3) Segment tweets\n",
        "\n",
        "* Segment tweets using the UDPipe machine learned model, remember to select the correct language.\n",
        "\n",
        "> English model: https://github.com/TurkuNLP/intro-to-nlp/raw/master/Data/en.segmenter.udpipe\n",
        "\n",
        "> Finnish model: https://github.com/TurkuNLP/intro-to-nlp/raw/master/Data/fi.segmenter.udpipe\n",
        "\n",
        "* Note that the segmentation model was not trained on tweets, so it may have difficulties in some cases. Inspect the output to get an idea how well it performs on tweets.\n",
        "* Note: In case of the notebook cell dies while trying to load/run the model, the most typical reason is wrong file path or name, or incorrectly downloaded model.\n",
        "* **The output of this excercise** should be a list of segmented tweets, where each tweet is a string."
      ]
    },
    {
      "cell_type": "code",
      "metadata": {
        "id": "yRmL8lThm5-P",
        "outputId": "6593043a-07c1-4547-b03c-7bcf35f2e768",
        "colab": {
          "base_uri": "https://localhost:8080/"
        }
      },
      "source": [
        "!wget -nc https://github.com/TurkuNLP/intro-to-nlp/raw/master/Data/en.segmenter.udpipe\n",
        "\n",
        "!pip3 install ufal.udpipe\n",
        "\n",
        "import ufal.udpipe as udpipe\n",
        "\n",
        "    "
      ],
      "execution_count": 4,
      "outputs": [
        {
          "output_type": "stream",
          "text": [
            "--2021-02-07 18:29:19--  https://github.com/TurkuNLP/intro-to-nlp/raw/master/Data/en.segmenter.udpipe\n",
            "Resolving github.com (github.com)... 140.82.112.3\n",
            "Connecting to github.com (github.com)|140.82.112.3|:443... connected.\n",
            "HTTP request sent, awaiting response... 302 Found\n",
            "Location: https://raw.githubusercontent.com/TurkuNLP/intro-to-nlp/master/Data/en.segmenter.udpipe [following]\n",
            "--2021-02-07 18:29:19--  https://raw.githubusercontent.com/TurkuNLP/intro-to-nlp/master/Data/en.segmenter.udpipe\n",
            "Resolving raw.githubusercontent.com (raw.githubusercontent.com)... 151.101.0.133, 151.101.64.133, 151.101.128.133, ...\n",
            "Connecting to raw.githubusercontent.com (raw.githubusercontent.com)|151.101.0.133|:443... connected.\n",
            "HTTP request sent, awaiting response... 200 OK\n",
            "Length: 17394186 (17M) [application/octet-stream]\n",
            "Saving to: ‘en.segmenter.udpipe’\n",
            "\n",
            "en.segmenter.udpipe 100%[===================>]  16.59M  47.5MB/s    in 0.3s    \n",
            "\n",
            "2021-02-07 18:29:19 (47.5 MB/s) - ‘en.segmenter.udpipe’ saved [17394186/17394186]\n",
            "\n",
            "Collecting ufal.udpipe\n",
            "\u001b[?25l  Downloading https://files.pythonhosted.org/packages/e5/72/2b8b9dc7c80017c790bb3308bbad34b57accfed2ac2f1f4ab252ff4e9cb2/ufal.udpipe-1.2.0.3.tar.gz (304kB)\n",
            "\u001b[K     |████████████████████████████████| 307kB 4.8MB/s \n",
            "\u001b[?25hBuilding wheels for collected packages: ufal.udpipe\n",
            "  Building wheel for ufal.udpipe (setup.py) ... \u001b[?25l\u001b[?25hdone\n",
            "  Created wheel for ufal.udpipe: filename=ufal.udpipe-1.2.0.3-cp36-cp36m-linux_x86_64.whl size=5625093 sha256=b7dce9858cca593d0898d3fe5c26da373ba6c50ec5cf41a4ee6d4fd013d1d807\n",
            "  Stored in directory: /root/.cache/pip/wheels/0c/9d/db/6d3404c33da5b7adb6c6972853efb6a27649d3ba15f7e9bebb\n",
            "Successfully built ufal.udpipe\n",
            "Installing collected packages: ufal.udpipe\n",
            "Successfully installed ufal.udpipe-1.2.0.3\n"
          ],
          "name": "stdout"
        }
      ]
    },
    {
      "cell_type": "code",
      "metadata": {
        "id": "omNuopLcm-y4",
        "outputId": "dcf746e4-f3fd-43e4-f1e9-aa8ae0289ca2",
        "colab": {
          "base_uri": "https://localhost:8080/"
        }
      },
      "source": [
        "\r\n",
        "model = udpipe.Model.load(\"en.segmenter.udpipe\")\r\n",
        "pipeline = udpipe.Pipeline(model,\"tokenize\",\"none\",\"none\",\"horizontal\") # horizontal: returns one sentence per line, with words separated by a single space\r\n",
        "\r\n",
        "segmented_document = pipeline.process(texts[20])\r\n",
        "\r\n",
        "print(segmented_document) "
      ],
      "execution_count": 5,
      "outputs": [
        {
          "output_type": "stream",
          "text": [
            "Usual military patrol course mean ?\n",
            "Dared too much !\n",
            "KKK\n",
            "https://t.co/e8MQGSak1J\n",
            "\n"
          ],
          "name": "stdout"
        }
      ]
    },
    {
      "cell_type": "markdown",
      "metadata": {
        "id": "vgFEubVym5-S"
      },
      "source": [
        "## 4) Calculate word frequencies\n",
        "\n",
        "* Calculate a word frequency list (how many times each word appears) based on the tweets. Which are the most common words appearing in the data?\n",
        "* Calculate the size of your vocabulary (how many unique words there are).\n",
        "* **The output of this excercise** should be a sorted list of X most common words and their frequencies, and the number of unique words in the data."
      ]
    },
    {
      "cell_type": "code",
      "metadata": {
        "id": "9L-qLoLum5-S",
        "outputId": "c4340e7c-3b6f-4e00-c954-da19bd1a73ed",
        "colab": {
          "base_uri": "https://localhost:8080/"
        }
      },
      "source": [
        "from collections import Counter\r\n",
        "\r\n",
        "token_counter = Counter()\r\n",
        "for tx in texts :\r\n",
        "    tokenized = pipeline.process(tx)\r\n",
        "    tokens = tokenized.split() # after segmenter, we can do whitespace splitting\r\n",
        "    token_counter.update(tokens)\r\n",
        "\r\n",
        "print(\"Most common tokens:\", token_counter.most_common(20))\r\n",
        "print(\"Vocabulary size:\", len(token_counter))"
      ],
      "execution_count": 6,
      "outputs": [
        {
          "output_type": "stream",
          "text": [
            "Most common tokens: [('@', 717), (':', 716), ('RT', 612), ('.', 360), ('the', 281), ('#', 280), (',', 247), ('…', 244), ('a', 241), ('to', 228), ('I', 203), ('and', 192), ('you', 178), ('of', 152), ('in', 150), ('for', 137), ('is', 137), ('-', 123), ('!', 108), ('on', 97)]\n",
            "Vocabulary size: 6078\n"
          ],
          "name": "stdout"
        }
      ]
    },
    {
      "cell_type": "markdown",
      "metadata": {
        "id": "aaC9e4Rjm5-T"
      },
      "source": [
        "## 5) Calculate idf weights\n",
        "\n",
        "* Calculate idf weight for each word appearing in the data (one tweet = one document), and print top 20 words with lowest and highest idf values.\n",
        "* Can you think of a reason why someone could claim that tf does not have a high impact when processing tweets?\n",
        "* **The output of this excercise** should be a list of words sorted by their idf weights.\n"
      ]
    },
    {
      "cell_type": "code",
      "metadata": {
        "id": "_PTJZOa1vWh5",
        "outputId": "bd2c93b8-5eeb-42c6-9565-9523cfd6bb35",
        "colab": {
          "base_uri": "https://localhost:8080/"
        }
      },
      "source": [
        " from sklearn.feature_extraction.text import TfidfVectorizer\r\n",
        " vectorizer = TfidfVectorizer()\r\n",
        " X = vectorizer.fit_transform(texts)\r\n",
        " X_vovab = vectorizer.get_feature_names()\r\n",
        " print(X_vovab)\r\n",
        " print(X.shape)\r\n",
        " X_mat = X.todense()\r\n",
        "X_idf = vectorizer.idf_\r\n",
        "print(X_idf)\r\n",
        "\r\n",
        " print(X)"
      ],
      "execution_count": 25,
      "outputs": [
        {
          "output_type": "stream",
          "text": [
            "['00', '000', '00pm', '01', '01l', '01yb2wqv6h', '03', '07vpzwkzul', '0bcxbgdbzg', '0cjbkw56kv', '0dolooaxbh', '0f1e6d16', '0hzxlih9q2', '0jo4', '0jyk3roaks', '0kizlidoam', '0pnvck1sqq', '0sqvdb0xv4', '0vuvmpoijb', '0wbos0qjum', '0xdlgedmee', '10', '100', '100m', '104', '105', '105s9', '10k', '10x', '11', '11pm', '12', '120', '12shiawasseefish', '13', '136064', '13th', '14', '14s', '15', '150', '15s', '160', '17', '171', '171223', '171224', '171225', '171226', '1740', '18', '185', '18619', '18621', '18k', '19', '1920', '1961', '1badasspoolboy', '1ddrive', '1episode', '1id', '1m', '1mill', '1st', '1vote', '1xcrdpr7im', '1z1cgzvzxh', '20', '200', '2002', '2006', '2006ta', '2009', '2010', '2013', '2014', '2015', '2016', '2017', '20171226', '2018', '2019', '2020', '2025', '20k', '20pm', '21', '22', '24', '241294_net', '25', '26', '26th', '28', '2aiajnp', '2bb62xbtao', '2dm29ik8', '2gzhafwyjy', '2k', '2o5jxybhej', '2zivlwttxq', '30', '300', '31', '33', '34', '37pgfq8qsh', '38', '3actfcrar8', '3cauaxm0u6', '3gt6z1hlkw', '3kgjpl7mfz', '3l9sbc22by', '3liza', '3pm', '3puelcpyom', '3rkld4qhql', '400', '40000', '400k', '40million', '41', '411', '424', '43', '445', '4450', '45', '47w8sisyft', '4bh7ilzl8y', '4e4rzylzps', '4g', '4hqwix3jbw', '4k', '4krgiyqfb5', '4min', '4ov8veixup', '4pm', '4qgebueg6v', '4rhrh5re4w', '4txalcye0q', '4vwz0kz2tg', '50', '500', '508hzcexaj', '50foyukvfd', '53s', '54', '55', '55ubyfbwkq', '56', '59', '5b99iqkwv0', '5bb0wec57x', '5haxxjsb56', '5hfkqbt', '5lcxronhf3', '5p1carquao', '5sowcrcxm7', '5v7bl2mhvg', '5ytnnah3h7', '5zpvcmqtx4', '60', '6202', '64', '655', '66', '66xkeevs7w', '6dymr5vwu2', '6ixcopres', '6nand9j9', '6pm', '6r0nw7xdll', '6udtt8mntp', '6y2dfsnl', '70', '703', '70qo70vwhr', '74', '75', '79ptokb7jw', '7bqovduuif', '7dcclytlhr', '7fn8gos09t', '7jxicnpp9t', '7lqjhoqqnm', '7mfdm82mtc', '7obtlozx1g', '7orc94xt1z', '7phshvd2m3', '7wyazuesob', '7ylocdtypz', '7zsg4orp0s', '82', '8621bu', '88babygeo', '8c4pq2t8r6', '8dpqw9ebx7', '8f', '8ir1r05guv', '8th', '8tk0e5hjhz', '91', '9256_708', '935744', '9492343138', '95ed', '97', '9820060411', '99', '99c', '9am', '9ar3b8gv8z', '9cymwiejao', '9ol2fg3eq7', '9tzpc4lsbc', '_achaean', '_alinaangel', '_am63__', '_ashamariee', '_cyanv', '_daijak', '_gommmu', '_lovelike_jesus', '_taylormccants', 'a167', 'a1_jay', 'a66', 'a67', 'aap', 'aapki', 'aatz7okzt1', 'ab', 'abc', 'abdi', 'abdullah', 'abhitu33rv', 'abi', 'about', 'above', 'abqi8t49bv', 'abscbn', 'absent', 'absolutely', 'abu', 'abusive', 'accent', 'access', 'accidentally', 'accomplished', 'according', 'account', 'accounts', 'acelibataria', 'ache', 'acoeekm3cd', 'across', 'act', 'actions', 'active', 'activity', 'actorvijay', 'actual', 'actually', 'acutes', 'ad', 'addy2424panda', 'adele', 'administration', 'admire', 'adopt', 'adorable', 'adorably', 'adul', 'adult', 'advantage', 'advent', 'advice', 'advise', 'afctotton', 'afford', 'affordable', 'afraid', 'africa', 'african', 'after', 'afternoon', 'again', 'against', 'age', 'agency', 'agentmediauk', 'ages', 'ago', 'agree', 'agxhiz609k', 'ahead', 'ahhhhdeca6', 'ahir_hansraj', 'ahmedinhojr', 'ai', 'aiden', 'aifam16', 'aiiisondiane', 'ain', 'aint', 'air', 'airlines', 'airnews_kohima', 'aj3', 'akkkzpwxkk', 'al', 'alanshearer', 'albertans', 'albmgx84k1', 'album', 'aldub_inarteam', 'aldub_joy25', 'aldub_poetweets', 'aldub_rteam', 'aldubbigboyz', 'aldubftnqt', 'aldubnation', 'aleppo', 'alert', 'alexailacad', 'alexandralynn08', 'alexisleroyyyy', 'alexissalantro', 'alexmanuli', 'alexof100names', 'alien', 'alive', 'all', 'alli', 'alliance', 'allies', 'alllthatjaz_', 'allow', 'allowed', 'almost', 'alone', 'alot', 'already', 'alrightyyyy', 'also', 'alt', 'although', 'always', 'alz', 'alzheimer', 'am', 'amateur', 'amaury', 'amazing', 'amazingphil', 'ambedkar', 'ambition', 'america', 'americacrftbeer', 'american', 'americas', 'amhistorymuseum', 'aminaticsofc', 'amnesias', 'amnesty', 'among', 'amongst', 'amour', 'amp', 'an', 'and', 'andreiandrei63', 'andrewkanatsky', 'android', 'andy', 'andyrichter', 'angel', 'angela', 'angelinaisabeia', 'anger', 'angliandriver', 'angusmacferret', 'ani', 'aniltewatia', 'anmol', 'annablanzy1', 'anniversary', 'announce', 'announced', 'announces', 'annoying', 'annoys', 'annual', 'anon4dolphin', 'anonymous', 'another', 'answer', 'ante', 'antennatv', 'anthony', 'anthro', 'anticipate', 'antoneithn', 'any', 'anybody', 'anyone', 'anything', 'anyways', 'aoki', 'ap_tg', 'aphraaaaaaaaaaaaaaa', 'apologizes', 'apology', 'app', 'apparently', 'apple', 'appleinsider', 'applejoy903', 'application', 'apply', 'appointed', 'appreciate', 'appreciative', 'approach', 'apt', 'aquarius', 'ar', 'ar4rnpem', 'araakglowup', 'architecture', 'archivekarla', 'archivesw', 'are', 'area', 'areas', 'aren', 'arent', 'arfjbbmscy', 'aries', 'arising', 'arm', 'armm2015', 'army', 'armys', 'armys_crew', 'around', 'arsenal', 'art', 'art4peace', 'article', 'artist', 'as', 'ashakayb', 'ashleyfeinberg', 'ashmensch', 'ashutosh83b', 'asian', 'ask', 'asked', 'asks', 'asksrk', 'ass', 'assassins', 'assing', 'assist', 'assistant', 'assists', 'assumingmo', 'astrokatie', 'at', 'athlete', 'atlanta', 'attached', 'attack', 'attacked', 'au', 'au6q3serag', 'aucc51chbl', 'audacity', 'audio', 'aunties', 'aurier', 'ausveng', 'authors', 'autocorrect', 'autocorrects', 'autokaaran', 'automatically', 'available', 'aveey_d_ladyz', 'avengers', 'average', 'avoid', 'award', 'awareness', 'away', 'awesome', 'awwwwwww', 'axia_chan', 'ayejaem', 'ayosworldd', 'azfmqd7bpw', 'ba', 'baaack', 'baba', 'babe', 'baby', 'babymackisland', 'back', 'backheel', 'backthecops', 'backup', 'bad', 'baddiessnation', 'badzim', 'baeciee', 'baekhyun', 'bafumu', 'bag', 'balances', 'ball', 'balls', 'band', 'bank', 'barackobama', 'barely', 'baseball', 'based', 'bash', 'basically', 'basket', 'basketball', 'bass', 'bathing', 'batman', 'battery', 'battle', 'bbc', 'bbin_2b', 'bbwpornstar', 'bc', 'be', 'be27fkhona', 'bear', 'bears', 'beat', 'beating', 'beatrooot', 'beaut', 'beautiful', 'beautifulday', 'beauty', 'became', 'because', 'become', 'becomes', 'becoming', 'beebomco', 'beehassler', 'been', 'before', 'begins', 'begs', 'behavior', 'behind', 'beijing', 'being', 'belair', 'believe', 'believed', 'belive', 'bell', 'belly', 'bemymedicine_', 'ben', 'bench', 'benefits', 'bengal', 'benjaminwittes', 'bento', 'bentonharbor', 'benz', 'bertrand', 'best', 'bestbuy', 'bestfriend', 'bestheel', 'bestofbyunbaek', 'bet', 'bets', 'better', 'between', 'betweenthehedge', 'beyond', 'bf9kngsba5', 'bg', 'bhafc', 'bharathanfilms', 'bi4nl2ji4w', 'bias', 'bible', 'bicycle', 'bieber', 'big', 'biggboss_critic', 'biggbuzz', 'bigger', 'biggest', 'bigolive', 'billboardbiz', 'biller', 'billybaldwin', 'bimby', 'bio', 'bioprocess', 'bird', 'birds', 'birthday', 'birthday_to_kyla', 'bit', 'bitch', 'bitcoin', 'bitcointalk', 'biting', 'bjp', 'bkd0727z1l', 'bkpf8za3us', 'bkzktifcfd', 'black', 'blackberry', 'blackpink', 'blackpinkglobal', 'blackpinkofficial', 'blacks', 'blade', 'blatantly', 'blazin', 'bleed', 'bleeding', 'bles', 'blessed', 'blessings', 'bling', 'blitzbrigade', 'blnzslba', 'bloated', 'blockchain', 'blocks', 'blonde', 'blood', 'bloodaid', 'blooddonorsin', 'blue', 'blueberry', 'blur', 'blurting', 'blxcknicotine', 'bm9fps8von', 'bmx', 'bnharpgzine', 'bnohjvijfr', 'body', 'bodyforfame', 'bogus', 'bois', 'bolarinde', 'bolarindesings', 'bold', 'bollywood', 'bologna', 'bolognabasket', 'bolu', 'bomb', 'bonne', 'bonus', 'bonuses', 'boo', 'boobs', 'book', 'bookings', 'booklet', 'bookstore', 'booktweeter', 'boom', 'booted', 'born', 'borofantv', 'boss', 'bot', 'both', 'bots', 'bottom', 'bought', 'bout', 'bouwhu', 'bow', 'bowl', 'box', 'boxes', 'boxing', 'boxingday', 'boy', 'boyfriend', 'br_kicks', 'bradley', 'brain', 'brands', 'brat', 'brea', 'break', 'breakfast', 'breaking', 'breaks', 'breathe', 'bredrinss', 'brentconner_', 'brewing', 'brewpub', 'brian', 'brianpaulstuart', 'bridgeport', 'bright_light012', 'brighton', 'brilliantdum_e', 'bring', 'bringing', 'brings', 'brissette', 'british', 'brittaniayana', 'bro', 'bro3nhceld', 'broadcasting', 'broke', 'brokehomietev', 'broken', 'brokeupexactly', 'brom', 'bromwich', 'brother', 'brothers', 'brought', 'bruuuh', 'bt', 'btob', 'btob_mel', 'bts', 'bts_ar', 'bts_army', 'bts_bighit', 'bts_billboard', 'bts_twt', 'bttjvxs7jr', 'bu', 'buckatlist', 'bud', 'buddhatree', 'buddhist', 'buds', 'buena', 'bugs', 'build', 'builder', 'built', 'bulletin', 'bullshi', 'bullshit', 'bumbum', 'bundle', 'burnley', 'burnleyofficial', 'burst', 'busan', 'business', 'but', 'butt', 'butthole', 'button', 'butts', 'buy', 'buying', 'buys', 'bwjones', 'bxllaneira', 'by', 'bye', 'byungchanvisual', 'byunificial', 'bzipegmb3z', 'bzoiutzurf', 'c2', 'c3aeaabgph', 'c4bj28qt9p', 'c8bxmm8zoi', 'ca7lie8ku7', 'cafe', 'cafeuniverse', 'caitoz', 'cajncly47n', 'calendar', 'calendars', 'calico', 'call', 'called', 'calling', 'callme__relly', 'callum', 'calm', 'calmingsphere', 'calvin', 'came', 'camera', 'camila_cabello', 'camp', 'campaign', 'campsprings', 'cams', 'can', 'canada', 'cancer', 'cancers', 'cannot', 'cant', 'capb36airw', 'capricorn', 'captains', 'captainswoop1', 'caption', 'car', 'card', 'cardi', 'care', 'care2', 'caregiver', 'caribbean', 'carlos', 'carrots', 'carry', 'cars', 'carter', 'carvalhal', 'casamendoza2012', 'case', 'cases', 'casspernyovest', 'castle', 'casualties', 'cat', 'cats', 'catspaperbacks', 'cause', 'causes', 'caution', 'cautious', 'cavani', 'cbcnews', 'cbsnews', 'cc', 'celebrate', 'celebration', 'celestia', 'central', 'century', 'cereal', 'certain', 'cet', 'ceylan', 'cezidmzbsg', 'cfamulari', 'cfc', 'cffne3x4pi', 'cfwkod7zlw', 'cgdrawing', 'cha', 'chain', 'challenge', 'chance', 'chancellor', 'chances', 'change', 'changed', 'changsvbism', 'channel', 'chanyeol', 'chariesvt', 'charlie', 'chart', 'chase', 'chat_twizzle', 'chats', 'chauhan', 'cheaper', 'cheater', 'cheating', 'chebha', 'check', 'checked', 'checks', 'cheering', 'cheesy', 'chef', 'chelpushristmas', 'chelsea', 'chelseafc', 'chelsunderwood_', 'chenle', 'cheol', 'cheonsachann', 'chevy', 'chicagobears', 'chicken', 'chicks_desi', 'chief', 'chike____', 'child', 'childhood', 'children', 'chim', 'china', 'chinkdejj', 'chinu_omenu', 'chocolate', 'choikawu', 'cholera', 'choose', 'choosing', 'choreography', 'chose', 'chris', 'christ', 'christian', 'christians', 'christinerick', 'christmas', 'christmasgift', 'christypowers', 'chronicles', 'chuck', 'churchill', 'chuuzus', 'ciarakardashx', 'ciothesporn', 'circa', 'circle', 'circulation', 'cities', 'city', 'cityofseattle', 'civilization', 'cji0wx5pu0', 'cjusj94wbl', 'claim', 'claims', 'clarissa', 'clarke', 'class', 'classic', 'classiclib3ral', 'classy', 'clean', 'cleaning', 'clear', 'cleared', 'click', 'clicked', 'client', 'climate', 'clint419', 'clinton', 'clip', 'close', 'closed', 'clot', 'clout', 'clraasyici', 'club', 'clubs', 'clutter', 'cm', 'cnn', 'cnnmoney', 'cnntech', 'co', 'coach', 'coat', 'cobboldmassive', 'cocks', 'cod', 'code', 'coin', 'coins', 'cold', 'coldest', 'collaborate', 'collar', 'college', 'collinzzulu', 'cologn', 'colon', 'colours', 'coma', 'come', 'comedy', 'comes', 'comforting', 'comforts', 'comics', 'comin', 'coming', 'command', 'commander', 'comment', 'commonly', 'community', 'companies', 'compartment', 'competition', 'compilation', 'complain', 'complaining', 'complete', 'completely', 'completes', 'comps', 'computer', 'con', 'conceded', 'conceding', 'concept', 'concert', 'conditions', 'confidence', 'confirmed', 'conflicts', 'congestion', 'congratulations', 'congress', 'congresswoman', 'connections', 'connor_hannigan', 'considered', 'conspiracy', 'constantly', 'constituents', 'container', 'content', 'contest', 'continues', 'contribution', 'control', 'conversation', 'convicted', 'convictions', 'convincing', 'cooker', 'cookie', 'cool', 'cooperation', 'copa90', 'copied', 'copies', 'cops', 'copy', 'corner', 'corporate', 'correct', 'corroborated', 'corrupt', 'cosmic', 'cosms', 'cosy', 'cough', 'could', 'couldn', 'coun', 'count', 'counting', 'country', 'countryinns', 'couple', 'coupon', 'coupons', 'courage', 'course', 'court', 'cousin', 'cover', 'covered', 'coyw', 'cpp', 'cr', 'cr3qgjnri0', 'craigslist', 'crankgameplays', 'crash', 'craves', 'crazy', 'cream', 'creamy', 'create', 'created', 'creation', 'creative', 'creator', 'creators', 'credit', 'creep', 'creepy', 'crhedrys', 'cried', 'crime', 'crimmah', 'cringeworthy', 'crisis', 'cristiano', 'cristina', 'crlmgddn', 'crooked', 'cross', 'crowd', 'cruise', 'cry', 'crying', 'crypto', 'cryptokitties', 'cryptoregime', 'crystal', 'csgogamblin', 'csgogiveaway', 'csgonerf', 'ct', 'cu', 'cu7on7g1si', 'cuccu', 'cuddle', 'cuddling', 'cuddlyvmin', 'cuh', 'cult', 'cultivating', 'culture', 'cunt', 'currency', 'currently', 'curved', 'custom', 'customer', 'cut', 'cute', 'cuteemergency', 'cutest', 'cutie', 'cuts', 'cuz', 'cwnnrnrnfnf', 'cyberharassment', 'cydia', 'cyevwvnhhd', 'cynthiamckinney', 'cys8r4jd40', 'd0nnacariaga', 'd1jdbjwb4m', 'd_slavica', 'da', 'da5hg3vcmm', 'daban', 'dabank', 'dad', 'daddancechamp', 'daddyjimln', 'daegu', 'daejeon', 'dag_redfc', 'daily', 'dalrymplewill', 'damage', 'damn', 'damsel', 'dan', 'dance', 'dancing', 'danger', 'dangerous', 'dangote', 'danielhowell', 'dankkids', 'danstkes', 'dant7ee1wr', 'dar2egejdm', 'dared', 'dark', 'dark_regions_pr', 'darkes', 'darkest', 'darlington', 'darts', 'data', 'date', 'daughter', 'daughters', 'dave', 'davidsirota', 'dawg', 'dawn', 'day', 'dayafterchristmas', 'days', 'dayton', 'dbeujvsmiu', 'dc', 'dcmildailytweet', 'ddale8', 'ddball', 'de', 'de6gckwper', 'deadlyems', 'deal', 'deals', 'dear', 'debts', 'debut', 'dec', 'dec26', 'decade', 'decades', 'december', 'decency', 'decent', 'decide', 'decided', 'decides', 'declan', 'decoration', 'deep', 'defenders', 'defense', 'defensive', 'degrassi', 'dekagonn', 'dekdarion', 'dele', 'delete', 'delhimetro', 'delicious', 'delreyquotess', 'demand', 'demba', 'demirosemawby', 'democracy', 'demolished', 'demonetisation', 'dems', 'denissuarez6', 'depot', 'depth', 'deranged', 'des', 'describer', 'description', 'deserve', 'deserves', 'design', 'designated', 'designer', 'desiigner', 'desperate', 'desperately', 'despises', 'despite', 'destroying', 'detention', 'determine', 'detroit', 'dev6vf0p7a', 'developing', 'development', 'dew', 'deztxjmmcx', 'dflexico', 'dgrqxo1ruz', 'dheerajgbc', 'di', 'diami', 'dianacooper55', 'dic5ybnbwc', 'dick', 'did', 'didn', 'die', 'died', 'diego', 'dier', 'differ', 'difference', 'different', 'difficult', 'digital', 'digitalmarketing', 'dijk', 'dil', 'dinner', 'dinoaegyooff', 'dirty', 'dis', 'disallowed', 'disappointment', 'discharge', 'discovered', 'discuss', 'discussion', 'disney', 'dispatched', 'dispensary', 'display', 'disrespectful', 'dissociating', 'distancing', 'distracted', 'district', 'diverging', 'divide', 'divided', 'divisional', 'divjohnny', 'djkver2', 'dl', 'dlyrecipes', 'dm', 'dmfm5hqcs8', 'dmnaa5biim', 'dn5t3eg51f', 'dna', 'dnc', 'do', 'doctor', 'doctors', 'doctorwho', 'dodge', 'does', 'doesn', 'doesnt', 'dog', 'dog_feelings', 'doggy', 'dogs', 'doing', 'doj', 'dojfwtzdca', 'dol', 'doll', 'dollar', 'dollard', 'don', 'donald', 'donate', 'donations', 'doncaster', 'done', 'donetz', 'donjr', 'donkey', 'donor', 'dont', 'dontcavitate', 'doors', 'dorothy', 'dossier', 'doubt', 'dowithgod', 'down', 'downfall', 'download', 'dp', 'dqysix', 'dr', 'drag', 'dragon', 'drake', 'drama', 'dramatic', 'drastic', 'draxler', 'drbvn3djg3', 'drdenagrayson', 'dream', 'dreams', 'dreamy', 'dreidmusicalx', 'dress', 'dressing', 'dril', 'drill', 'drills', 'drinking', 'drippy', 'drive', 'drives', 'driving', 'drjft4mj69', 'drop', 'drtgif', 'drugstore', 'drunk', 'dryetlifn9', 'dsfaduktd0', 'dualipaforever', 'duh', 'dumbassery', 'dumh7z2wcv', 'dungeon', 'durag', 'during', 'dusk', 'duvyldjofb', 'dwqgobp3v7', 'dwrk4ukxrn', 'dz8snhedc9', 'e250', 'e3p1xq8cuv', 'e7zmua4ggb', 'e8mqgsak1j', 'each', 'earlier', 'early', 'earth', 'ease', 'easier', 'eastbound', 'eastenders', 'eat', 'eaten', 'eating', 'eats', 'eco', 'ed', 'edaimocdpp', 'edge', 'edition', 'edrmxjsljb', 'edstetzer', 'educated', 'ee2ihqji3p', 'eg', 'ehmirald', 'ej7qrd8ywb', 'ejg7hqnypm', 'ejskqw9ltx', 'ekjnbdjz5l', 'el', 'el5aerazjs', 'elaborate', 'elcoltonshow', 'election', 'electricatoral', 'elegant', 'elementary', 'elena', 'elephant', 'elisabaquino', 'elitedefender', 'elland', 'ellielovegrove_', 'ellisuhhh', 'elon', 'elton', 'elu7dxhlut', 'em', 'emissarily', 'emmavreyes', 'emotionally', 'emp', 'employees', 'emql1wncut', 'emxnh', 'encou', 'encountered', 'encounters', 'end', 'ends', 'energy', 'enforcement', 'engage', 'engagements', 'engineerklee', 'england', 'english', 'enjoy', 'enjoyable', 'enjoyed', 'enough', 'enter', 'entered', 'entertained', 'entire', 'entrepreneurs', 'ep', 'epic', 'episode', 'eqty5i7evt', 'equivalent', 'erdvft576q', 'erica', 'erie', 'erm', 'err', 'errizsml', 'error', 'es_snipes', 'escorts', 'esghqv4fpp', 'eslitvin', 'esolution', 'essentii', 'esteemed', 'ethnic', 'etyujl9tuq', 'europe', 'eurusd', 'evangaccione', 'evangelicals', 'eve', 'eveewing', 'even', 'evening', 'event', 'ever', 'everton', 'every', 'everybkdy', 'everybody', 'everyday', 'everyone', 'everything', 'everytime', 'evrytime', 'ex', 'ex4iqfbt8k', 'exactly', 'examen0claims', 'exc', 'excited', 'excitement', 'exclusive', 'exeter', 'exhausting', 'exo', 'exonyeondan', 'exotic', 'expect', 'expectopatronum', 'expensive', 'experience', 'explain', 'explaining', 'explains', 'explanation', 'explanatory', 'exploding', 'express', 'extended', 'extending', 'extends', 'extension', 'extinction', 'extra', 'extravaganza', 'extremely', 'eybevmk31n', 'eyhonf9ujg', 'ezdmmw0iyx', 'f5vxjx3gv7', 'fa2xdpikwa', 'fa4cif0hua', 'faacctt', 'face', 'facebook', 'fact', 'faeznajmuddin', 'fag', 'fail', 'fair', 'faithful', 'fake', 'fakerainanephew', 'faking', 'fall', 'falls', 'fallseason', 'fam', 'familie', 'family', 'familyfirst', 'famine', 'fan', 'fancy', 'fans', 'far', 'fargo', 'farmer', 'fart', 'fascinating', 'fascist', 'fasho', 'fast', 'fastest', 'fat', 'fathimamedicalcollege', 'fauldskaren', 'fav', 'fave', 'favorite', 'faysalaliyuaa', 'fb', 'fbb0l9dbyn', 'fbi', 'fbs', 'fcking', 'fcpcfsuzke', 'fe', 'fearing', 'feat', 'feat_young', 'fedora', 'feel', 'feeling', 'feelings', 'feelingsbible', 'fegzjkd1yi', 'fellow', 'felt', 'female', 'femdomgoddess', 'femiadesina', 'femifactor', 'fernando', 'festival', 'festive', 'fetishvanessa', 'feuds', 'few', 'fewbyermkv', 'feyqamaria', 'ffaaccttt', 'ffitnb', 'fg8xpfhwmx', 'fi0j4qicg0', 'fiancé', 'field', 'fif4ghgbeh', 'fifty9bmg', 'fight', 'fighting', 'fights', 'file', 'filipino', 'filled', 'film', 'filmed', 'films', 'filter', 'finah', 'final', 'finally', 'find', 'finds', 'fingers', 'finish', 'finland', 'fintech', 'fire', 'firebrand', 'fired', 'first', 'firtsiove', 'fishmas', 'fisting', 'fit', 'fits', 'fiuudwgwvt', 'five', 'fix', 'fixtures', 'fj0zdmovy4', 'fjqpxktvqa', 'fkfkgkfkfkkgkfkcldlc', 'flaps', 'flavor', 'flesh', 'flex', 'flight', 'flipping', 'flirted', 'flirtingiy', 'floating', 'floor', 'floridiansinthesnow', 'flowerbbh', 'flshchlpsloey_8p', 'flx_bona95', 'flxsub', 'flydre21', 'fm', 'fmnvxn0pcr', 'fmoniteau', 'fo', 'focus', 'fodderscam', 'fog44', 'foh', 'follow', 'followed', 'followers', 'fonzycakey', 'food', 'fools', 'foootballplanet', 'foot', 'football', 'football_fours', 'footballfunnys', 'for', 'forced', 'forces', 'forested', 'forever', 'forex', 'forfeit', 'forget', 'forgives', 'forgot', 'form', 'format', 'former', 'forty', 'forward', 'fosr_tweets', 'foster', 'fought', 'found', 'four', 'fox', 'foxandfriends', 'foxandfrlends', 'foxnews', 'fpl', 'fr', 'fracking', 'frame', 'framed', 'france', 'frances', 'francesco', 'freak', 'free', 'free_mind19', 'freeeeeeesh', 'freeing', 'freememeskids', 'french', 'fresh', 'friday', 'friend', 'friends', 'friendship', 'friendstagram', 'frivolous', 'from', 'front', 'fronting', 'frostbiteljp', 'froze', 'fruits', 'ft', 'ftchina', 'fuck', 'fuckin', 'fucking', 'fulanis', 'fulfill', 'full', 'fulltime', 'fuloouxuwi', 'fun', 'funded', 'funding', 'funeral', 'funny', 'furries', 'furry', 'furry__memes', 'furryart', 'furryfandom', 'furrymemes', 'furrystoat', 'fursuit', 'future', 'futuremrsjeonx', 'futures', 'fw', 'fw8uigeei7', 'fyi', 'fzcn8pjemi', 'g6px22dvqv', 'g_enesiseliz', 'ga', 'gaffer', 'gaga', 'gain', 'gainwithpyewaw', 'galil', 'game', 'gamer', 'games', 'gamingmas', 'garbage', 'garden', 'garylineker', 'gas', 'gatsby', 'gave', 'gavin', 'gavinthomas', 'gay', 'gayass', 'gaybutt', 'gayer', 'gayfisting', 'gayfurry', 'gayo', 'gayodaejun', 'gayxxx', 'gayyiff', 'gayyyxxx', 'gbenahal', 'gcc', 'gd4b4k7vcw', 'gear', 'gemini', 'gems', 'gen', 'gender', 'genie', 'genuine', 'geoff', 'geoffasenna', 'george', 'georgediaz', 'georgie', 'german', 'get', 'get6rvao1p', 'gets', 'getting', 'gfe_pizza', 'gfm4sj2khu', 'giants', 'gidi_traffic', 'gif', 'gifs', 'gift', 'gifts', 'girl', 'girlfriend', 'girlofthesword', 'girlposts', 'girls', 'give', 'giveaway', 'giveaways1997', 'given', 'gives', 'giving', 'glad', 'glitches', 'glitter', 'glo', 'globally', 'globe', 'glocare', 'glorious', 'gloworld', 'gluntofficial', 'gma', 'gmda364lge', 'gnl1e3h3x7', 'gnlvhjoetb', 'gnu', 'go', 'goa', 'goal', 'goals', 'god', 'gods', 'goes', 'gofundme', 'going', 'gokc0odlu1', 'golden', 'golf', 'golo', 'gone', 'gonna', 'good', 'goodbye', 'google', 'gooooob', 'goooooooooooooaaaaaaaaaaaaaalllllllll', 'gop', 'gorgeous', 'goss30goss', 'got', 'gothgroupie', 'gotta', 'gotten', 'government', 'governor', 'gp', 'gr8', 'grab', 'grace', 'grahamcarterrr', 'grains', 'gram', 'granbluefantasy', 'grandpa', 'graphic', 'grassley', 'gray', 'great', 'greater', 'greatest', 'greedy', 'green', 'greenhousenyt', 'greenthumb', 'greetings', 'grenade', 'grief', 'grinch', 'grinders', 'grotesquefreak', 'group', 'grow', 'growi', 'growthegame', 'grsngvohca', 'gsarafan', 'gt', 'gttk00000', 'guardianus', 'guards', 'gucci', 'guess', 'guessed', 'guest', 'guichon', 'gulf', 'gum', 'gums', 'gurl', 'guy', 'guys', 'gwacheon', 'gwaenchanamjoon', 'gwangju', 'gxphjx', 'gzwy7wwxdl', 'h01fwyhwhv', 'h6ljcr58pj', 'ha', 'ha2o2mpoc1', 'hacking', 'hacks', 'had', 'haechan', 'haha', 'hahaha', 'hahahaahhaa', 'haihutrunks', 'hain', 'hair', 'hairstyle', 'haktoys', 'half', 'halifax', 'halseywilder', 'hamilton', 'hamzahafiz19', 'hand', 'handed', 'handle', 'hands', 'hangover', 'hansevicton', 'hansol', 'hap', 'happen', 'happened', 'happening', 'happens', 'happier', 'happiness', 'happy', 'happy_kyla_day', 'happybirthdayjade', 'happykwanzaa', 'har', 'haram', 'harassment', 'hard', 'hardwork', 'harleivy', 'harm', 'harry', 'harrys1dempire', 'haruikagesogeso', 'has', 'hashtag', 'hashtaggcw', 'hasn', 'hastings', 'hat', 'hate', 'hates', 'hating', 'hatred', 'hattrick', 'hattricks', 'hausa', 'hav', 'have', 'haven', 'having', 'hawkblogger', 'hayoung', 'hazelninini', 'hb3lghzluw', 'hbd', 'he', 'head', 'headed', 'heading', 'heads', 'health', 'healthcare', 'healthy', 'healy', 'hear', 'heard', 'hearing', 'heart', 'heartdisease', 'hearts', 'heartworm', 'heat', 'heavenlyjjk', 'hectic', 'hegdeinsultsambedkar', 'helenvmurray', 'helicopter', 'hell', 'hello', 'hellow', 'help', 'helps', 'helsinki', 'hemed', 'henny', 'heolgenxy', 'her', 'here', 'hereeeeeeeeeeeeeeeee', 'hero', 'heroin', 'herpeszoster', 'herrick', 'herrick_hooley', 'herself', 'hey', 'heyitsbaee', 'hhhu5smle1', 'hi', 'hidden', 'hiddleston', 'hide', 'high', 'high_times_mag', 'higher', 'highkey', 'highlights', 'hiking', 'hilarious', 'hillary', 'him', 'himself', 'hip', 'hiring', 'his', 'historic', 'history', 'hit', 'hkane', 'hobibimbab', 'hodl', 'hoescrush', 'hoga', 'hoganphotos', 'hokagehoney10', 'hold', 'hole', 'holes', 'holiday', 'holidays', 'hollow', 'holy', 'holyfag', 'home', 'homesick', 'honestly', 'hong', 'hooley', 'hoon', 'hooooow', 'hoop_life20', 'hop', 'hope', 'hopefully', 'hops', 'horizon', 'horowitz', 'horstiefm', 'hoseok', 'hoseoks', 'hospital', 'hosting', 'hot', 'hour', 'hours', 'house', 'housing', 'how', 'however', 'hptzs3snr4', 'hq', 'hqeweowaas', 'hqnh0bklml', 'hr', 'hrs', 'hsaesthetic_', 'hsl42qnyd7', 'ht', 'htt', 'http', 'https', 'hudstk', 'huge', 'huggy', 'hugotunsent', 'hull', 'human', 'humanrightsday', 'humans', 'humiliating', 'hungary', 'hunting', 'hurt', 'hurting', 'hurts', 'husband', 'hustler', 'hyc4qyxxps', 'hyderabad', 'hygiene', 'hyperdunk', 'hyperx', 'i2lqdu8s2r', 'i5kzyzmxzb', 'i7498nwdmo', 'i__love__italy', 'iambritishreal', 'iamitbhadana', 'iamrilan', 'iamsrk', 'ian1', 'ianharris', 'ibese', 'ibra', 'icansavelife', 'ice', 'ichi', 'icon', 'iconic', 'icu', 'icymi', 'id', 'idc', 'idea', 'ideas', 'identity', 'idiom', 'idiot', 'idk', 'idol', 'iestrsde', 'iexols', 'if', 'ifb', 'ifxcopy', 'ig', 'igbos', 'ignored', 'ignoring', 'ih6tih6lh5', 'iiearwhoe8', 'iivtre8c1l', 'ijaws', 'ijgo29bckd', 'ikd9obvxny', 'ikdiun7dx5', 'ikmepskzys', 'ikon', 'il', 'ilaro', 'ill', 'im', 'image', 'imagine', 'imamoftwiter', 'imjonginswife', 'immichomalaluan', 'immigrants', 'imnotabarbiie', 'impact', 'impactor', 'imperium', 'impersonati', 'important', 'impossible', 'impres', 'improve', 'impulse', 'in', 'inauguration', 'incident', 'included', 'including', 'increase', 'increased', 'increasing', 'incredible', 'inctelangana', 'independence', 'indiana', 'indiapokerchamp', 'indifferent', 'ineedzyx', 'infested', 'infiapp', 'infinite', 'influential', 'infomu', 'ing', 'ingnieur', 'ingredients', 'injo4jxzls', 'injure', 'injured', 'injury', 'inn', 'innocent', 'insanity', 'inside', 'insight', 'insomniacgames', 'inspired', 'inspirestagram', 'inspowerminds', 'instagram', 'install', 'instructions', 'integrity', 'intellegence', 'intelligent', 'interested', 'interiordesign', 'interiors__home', 'international', 'interview', 'intexolteam', 'into', 'intoyouchance', 'inutile', 'invasian', 'inventory', 'investigation', 'investigtion', 'investment', 'invite', 'invites', 'io7elym9mk', 'ip', 'ipa', 'iphone', 'irdotnet', 'ireenee_b', 'irl', 'iron', 'ironic', 'ironicallynice', 'irritated', 'is', 'isabell83300559', 'ishitamonga_', 'isis', 'isisbdr', 'islamic', 'isn', 'isnt', 'isnzbadvx1', 'israel', 'israeli', 'issues', 'istanbul', 'it', 'itmeirl', 'itranslategames', 'its', 'itsbaeily', 'itself', 'itsfoodporn', 'itsjcnaya', 'itswarrenbuffet', 'itswiselearning', 'itunes', 'iwantclips', 'ixkzvgro5u', 'j69wiu0tad', 'j6rblhiprb', 'j7psokayhb', 'j8vmn6xvff', 'jaanebhido123', 'jacinda_chew', 'jack', 'jack_msw', 'jacket', 'jacking', 'jacko_1902', 'jackson', 'jade', 'jadhav', 'jake', 'jamal', 'jantp8', 'january', 'janviersy', 'japan', 'japanese', 'jaskyatela', 'jawsnoona', 'jay', 'jealous', 'jedah', 'jeetkaybol', 'jeff', 'jeffbezos', 'jeffflake', 'jem', 'jen', 'jennife90122685', 'jeon', 'jeong', 'jeongguk', 'jeonju', 'jerk', 'jesse_arreola', 'jessicalterry', 'jessiepaege', 'jesus', 'jeythevillain', 'jgfxcn32ek', 'jh', 'jhawker69', 'jibeomsnow', 'jihadists', 'jihoon', 'jimin', 'jimmykempski', 'jin', 'jinlobify', 'jisoo', 'jjdaily_', 'jjdibenedetto', 'jjeylzp78r', 'jk', 'jkvpjo8wil', 'jlblpbdxqn', 'jlsrxdr543', 'jm', 'jmddrake', 'jmuwz', 'joanneweir38', 'job', 'jobs', 'jodie', 'joe', 'johansson', 'john', 'johncleese', 'johnnyorlando', 'joieq101', 'join', 'joinin', 'joke', 'joker', 'jones', 'jonghyun', 'jonreyna11', 'jordan', 'jorja', 'josephmasi_star', 'joshua', 'joshuabrobbins', 'joy', 'joyannreid', 'jpb8zrbqjk', 'jqy9ngon7m', 'jqyvco2zto', 'jr25agyxgc', 'jr_church', 'jrcf87dxeq', 'jtuykg4ncd', 'ju', 'ju42zobfpz', 'judah_robinson', 'juju', 'julian', 'julianmauricio', 'julie_bhabhi', 'julietajuris', 'juliusgoat', 'july', 'jumper', 'junctions', 'jungkook', 'junkie', 'junmyeon', 'jurassicparkpod', 'just', 'justify', 'justin', 'justine', 'justragequitbro', 'juvie', 'jv3jdnrq0n', 'jvl4ew0bfd', 'jw3dzygsk5', 'jw68zsnlmz', 'jwicyvl9g3', 'jyldohkelq', 'jyoti', 'jzpux8wqlx', 'k16xmgh3yj', 'k2zkbzmi7n', 'k4penpqnxa', 'k5uusf3kja', 'k6hdy1ings', 'kaif', 'kajolkhanal', 'kaka_day', 'kane', 'kangaroo', 'kangdaniel', 'kante', 'kaoli_06', 'kapamilya', 'kaptionthis', 'kar', 'kardashianreact', 'karenga', 'karl', 'karnatakaworld', 'katiecolletttv', 'katrina', 'katrinakaiffb', 'kaya', 'kcraftwriter', 'kdrama', 'kechara', 'keelyblowers1', 'keep', 'kellyblaus', 'kensingtonroyal', 'kentremendous', 'kept', 'kerala', 'kermit', 'kerns', 'kevin', 'keyboard', 'keybox', 'keys', 'khal2m_ukay', 'kicked', 'kicker', 'kicki', 'kicks', 'kickstradomis', 'kid', 'kidding', 'kids', 'kilig', 'killed', 'killer', 'killing', 'kimberlykuppsxx', 'kimjunmyeonnews', 'kimkardashian', 'kind', 'kinda', 'kindly', 'kindness', 'king', 'kingabsolute_', 'kingtousen', 'kingtrillax', 'kiss', 'kitchen', 'kitten', 'kjl5mif2x0', 'kkk', 'klowiwi', 'knew', 'knicks', 'knmmjqtlzr', 'knockknock0408', 'know', 'knowing', 'known', 'knows', 'ko', 'koalajihoon', 'kohima', 'kokobop', 'komwsltwy4', 'kong', 'kor', 'koreaboo', 'korean', 'koz', 'kozyboi', 'kpop', 'kpopchartsdata', 'kqg6hckaiz', 'kr6qn2heg3', 'krassenstein', 'kristoncapps', 'krizhtia', 'kst', 'kteui8giwu', 'kthjjg', 'kukanewnfd', 'kv6ug6newt', 'kvbl0z5nfg', 'kween', 'kwwd4hppkw', 'kxxbtynw1x', 'kyla', 'kylegriffin1', 'kyriaaaaaa__', 'kyung', 'kyungsoo', 'kyungsootrans', 'l0x1fd1ua3', 'l9ifxrei7h', 'la', 'lacazettealex', 'lack', 'lacking', 'lady', 'ladylibertyinex', 'lahren', 'laic3khr8p', 'lake', 'lalrape', 'lap', 'lappy', 'larsson', 'lasers', 'last', 'lasted', 'late', 'latentexistence', 'later', 'latest', 'laugh', 'laughing', 'launch', 'lauren', 'laurennnnn', 'lavar', 'law', 'lawrencerothman', 'lawsuit', 'lay', 'le47s7iujw', 'lead', 'leader', 'leaders', 'leadership', 'leading', 'leafy', 'league', 'leagues', 'learn', 'learned', 'learns', 'least', 'leather', 'leave', 'leaves', 'leaving', 'lebaenesepapii', 'ledwaba', 'lee', 'leeds', 'left', 'leftie', 'legend', 'legendary', 'legends', 'legit', 'lehlogonolo', 'lei12thk4t', 'leicteser', 'length', 'leo', 'lesbian', 'lesliempozsonyi', 'less', 'lesterprestonjr', 'let', 'lets', 'letter', 'letter10media', 'letting', 'lettingagents', 'level', 'leviathan', 'lewi', 'lewis', 'lewiscapaldi', 'leytonorientfc', 'lgotq6hhyi', 'li', 'liar', 'liberal', 'liberia', 'library', 'librarycongress', 'lick', 'lie', 'lies', 'liesesmar', 'life', 'lifebizzles', 'lifehacker', 'lifestyle', 'liiskies', 'like', 'likes', 'lil', 'lilavati', 'liluzivert', 'limerick', 'limited', 'linbea945', 'lindaaa_babees', 'lindt', 'line', 'lineups', 'link', 'lion', 'lionel', 'lip', 'lipgloss', 'lipsync', 'lisalafsoutloud', 'list', 'listen', 'listened', 'listening', 'lit', 'litt', 'little', 'littlemix', 'live', 'liveboobs', 'livechat', 'lived', 'livehdmatch', 'livelyidiot', 'livin', 'living', 'lk972allzp', 'll', 'lloris', 'lm', 'lmao', 'lmaoooooooooo', 'lncjzdalrp', 'loads', 'loanwatch', 'location', 'locker', 'lofc', 'lofted', 'login', 'lol', 'lollydaskal', 'london', 'long', 'longer', 'longest', 'lonzo', 'look', 'looking', 'looks', 'lopez', 'lord_sugar', 'lorde', 'loser', 'loses', 'losing', 'lost', 'lot', 'lots', 'loud', 'louis', 'louis_tomlinson', 'louisemensch', 'love', 'loved', 'lovelife', 'lovely', 'lovelybrobecks', 'lover', 'loves', 'low', 'lowlife', 'lpoybtz3es', 'lrwfpypgyc', 'ls_maiden0712', 'lt', 'lucernaignis', 'luck', 'luckiiyluke', 'lucky', 'luipnpdj3j', 'lukaku', 'lunatic', 'lunch', 'lureagency', 'lushltd', 'lustybhabi', 'luu', 'luvtyagiteam', 'lvl', 'lvmrsmn', 'lxdfum4qub', 'lxlfammiaj', 'lyak6rn8yk', 'lyft', 'lying', 'lynn', 'lyric', 'lyum_t', 'm4ingkdcqe', 'm7yxdaardg', 'm_constant5', 'm_pope1', 'ma', 'macca', 'macclesfield', 'mad', 'made', 'madhya', 'madonna', 'madrid', 'magic', 'magnificent', 'mainealden16', 'mainstream', 'maintenance', 'make', 'makes', 'makeupbyiyndsey', 'making', 'malaysian', 'mall', 'mamelodi', 'mametchl', 'man', 'managed', 'management', 'manager', 'manchester', 'mancity', 'manger', 'manishtewari', 'manutd', 'manutdinpidgin', 'many', 'marie_brownsuga', 'mario', 'marionspekker', 'marirrrangel', 'marked', 'market', 'marketi', 'markgeronimo_', 'markiplier', 'markjpoynton', 'marksteynonline', 'married', 'marrier', 'marry', 'marsh', 'marthaperez0609', 'martial', 'marvelgames', 'maryamnsharif', 'mascots', 'masrxi', 'mass', 'masterson', 'masturbate', 'match', 'math', 'matter', 'matters', 'mattgoss', 'mattletiss7', 'mattscott_95', 'mattyglesias', 'maturity', 'maulana', 'mauskovic', 'max', 'may', 'mayan', 'mayward', 'mazloumfaisal', 'mbchavez86', 'mbeiruloor', 'mccants', 'mcdonald', 'mcdonalds', 'mcfc', 'mclisseworldph', 'mcm', 'mcpmu9lnqx', 'me', 'me_irl', 'meakoopa', 'meal', 'mean', 'meanwhile', 'meatball', 'mecklenburgpolice', 'meddling', 'media', 'medical', 'medicalmarijuana', 'medication', 'meet', 'meeting', 'meine', 'mel', 'mela', 'melon', 'member', 'members', 'memesg0d', 'memories', 'men', 'mental', 'mention', 'mercedes', 'merda', 'meredith', 'mermatriarch', 'merr', 'merriest', 'merry', 'merryxmas', 'mesmerizing', 'message', 'messages', 'messi', 'messican', 'mesufvut0a', 'mesutozil1088', 'met', 'mexico', 'mf', 'mga', 'mgtab', 'mhkyyckvrb', 'mic', 'michaelwignall_', 'michigan', 'michleague', 'mickeastcoast88', 'mickey', 'micro', 'microphone', 'midfield', 'midfielder', 'might', 'migrant', 'migratory', 'mike_58stingray', 'mikeycarvalho', 'military', 'milli', 'millions', 'milne', 'min', 'minaj', 'mind', 'mindset', 'mine', 'mingyuspt', 'minhyun', 'minister', 'ministers', 'mins', 'minut', 'minute', 'misconduct', 'miserable', 'mishdad', 'miss', 'missed', 'misses', 'missing', 'missssgeorge', 'misstayblaze', 'missyou', 'mistakes', 'mitie', 'mixed', 'mj', 'mjao73tiiv', 'mjn0rrzn0q', 'mjsg', 'mky', 'mmmmm', 'mnet', 'mnlz8yyyya', 'mntase', 'mobile', 'mocca', 'mocking', 'modell', 'models', 'modern', 'mofty', 'mogamoka2', 'mohamed_adelx', 'mohammad', 'moisturizer', 'molina', 'mom', 'moment', 'moments', 'momhzevoji', 'monayb_', 'money', 'money__juan', 'monitor', 'monk', 'monks', 'monster', 'monsters', 'month', 'montreal', 'mood', 'mooreintheam', 'more', 'morning', 'morningg', 'mornings', 'moron', 'morr', 'mortal', 'morty', 'mos', 'moscow', 'most', 'motivating', 'motorised', 'mountain', 'mountains', 'mourinho', 'mouse', 'move', 'moves', 'movie', 'movies', 'moving', 'mowbray', 'moxtripple', 'mp3', 'mprnews', 'mr', 'mr_drinksonme', 'mrssmh2', 'mrstinavitale', 'msjsjsjdj', 'msmartei', 'mstytz', 'much', 'mueller', 'mufc', 'muiiingarnh', 'mumbai', 'munbur', 'munch', 'muppet', 'murderers', 'music', 'musical', 'musk', 'muslim', 'muslims', 'must', 'mustard', 'mute', 'mutzinho', 'mv', 'mvci', 'mxshackles', 'my', 'mybroadband', 'mygaddd', 'mypowertalk', 'myself', 'mystery', 'mysticmo11', 'myungsoo', 'myworld_rose', 'mzi2kjds3o', 'n2ta20f8kd', 'n7d6qixhvv', 'n7hixd28lo', 'na', 'na0bfe6o4r', 'naan', 'nackt', 'nah', 'naj00pzqwb', 'nals', 'nalsmy', 'name', 'named', 'names', 'namjoon', 'namo_office', 'nanny', 'narendramodi', 'nasa', 'nasdaq', 'natasha', 'nathan', 'national', 'natter', 'natural', 'nature', 'naughty', 'naughtybhabhi', 'naver', 'navy', 'naxals', 'nazis', 'nbavote', 'nbcswarriors', 'nbiqwcmrhj', 'nbltng9g1b', 'nbty_minhyun89', 'nco0keel8g', 'nctsvideos', 'nda', 'ne', 'near', 'nearly', 'nee', 'need', 'needed', 'needs', 'negative', 'negativity', 'neighborhood', 'neighbors', 'nelas', 'neonnettle', 'nephew', 'nerd', 'nervous', 'nesaamamii', 'netflix', 'netizens', 'network', 'never', 'new', 'newmerrell', 'news', 'newsciencewrld', 'newsweek', 'newyork', 'next', 'nfc', 'nfjsmz824m', 'nfl', 'ng87r7i16y', 'nglkante', 'nh', 'nhschoices', 'ni1htthgnx', 'niall', 'niallerdiaries', 'nibbling', 'nice', 'nicht', 'nick', 'nickdenbow11', 'nicki', 'nicoletayraa', 'niebjfrt97', 'niece', 'nigga', 'niggas', 'night', 'nights', 'nike', 'nikkicoughlin12', 'nims', 'ninip2t', 'nintendo', 'niten', 'nkjv', 'nkuy3aqazz', 'no', 'no1', 'noah', 'noahh_gh', 'noahschapps', 'nobody', 'noche', 'non', 'nonblack', 'none', 'nonhyeon', 'nonsense', 'noonifraudsin2017', 'noony', 'noor', 'normal', 'northampton', 'not', 'notes', 'nothing', 'noticed', 'nourishment', 'nova', 'novascotiapower', 'now', 'nowdays', 'nowhere', 'nowkna2gou', 'nowplaying', 'noyjkckghb', 'np', 'nr81luxtva', 'nsf2d7hwhm', 'nthxacyczu', 'ntxwqjovjo', 'nuaday_', 'nude', 'nufcvcity', 'number', 'numerologynow', 'numpty', 'nuno', 'nut', 'nuts', 'nutsack', 'nwqk71wzcx', 'nxdtecz4ij', 'nxkhdxm7jm', 'nyenyels', 'nyhpyvngmm', 'nypd', 'nypl_tweeter', 'nyre', 'nyt', 'o01', 'o2lgosdjla', 'o3ej5hmnvw', 'o8gdsbhchm', 'obama', 'obiba_brown', 'objectified', 'obligations', 'obsessively', 'obviousjeon', 'obzjf93hgr', 'occicer', 'odb0e0kmhq', 'oeztcspabb', 'of', 'off', 'offer', 'offering', 'office', 'officer', 'officers', 'official', 'officialbhafc', 'officialfpl', 'officialfye', 'officialjaden', 'officially', 'officialmcafee', 'officialrezz', 'officials', 'offline', 'offset', 'often', 'ogrm63zesk', 'oh', 'ohccrnyuin', 'ohcindyyyyy', 'ohnoshetwitnt', 'ohteenquotes', 'oieqvow7ha', 'oink', 'ojbnxumhmn', 'ok', 'okaka', 'okay', 'okcthunder', 'okv4', 'old', 'older', 'oldpicsarchive', 'olleh', 'omega', 'omg', 'omjobsgroupbp', 'omshantiom', 'on', 'once', 'one', 'ones', 'onetiponehand_', 'online', 'only', 'ontario', 'open', 'opened', 'opening', 'operated', 'opfunkill', 'opigthmew1', 'opiods', 'opioid', 'oppa', 'opportunity', 'opt', 'optachels', 'optimistic', 'option', 'or', 'oral', 'orange', 'ordained', 'order', 'ordered', 'organs', 'orientation', 'original', 'originalfunko', 'originates', 'orlandosentinel', 'orrinhatch', 'ortega', 'os', 'oscar', 'ot9', 'otbvafrax6', 'oth', 'other', 'otherwise', 'ouihkwd1rq', 'oum4yykjrm', 'our', 'ourseoks', 'out', 'outside', 'outta', 'ovcjpdlobe', 'over', 'overall', 'overlook', 'overthinking', 'overthinks', 'ow', 'owe', 'own', 'owned', 'ownyourwallet', 'owvyiad37d', 'p4mjo5zqgw', 'p6qi0na3p7', 'p7tqodoiyh', 'page', 'pai', 'painting', 'pair', 'pairs', 'pakistan', 'pal', 'palestinian', 'palestinians', 'pampanga', 'pancakes', 'pandarohalice', 'pandora', 'panties', 'paper', 'paperhamlincoln', 'paranoia', 'parent', 'parents', 'paring', 'parkerkithill', 'parks', 'part', 'part2', 'participated', 'parties', 'partner', 'parts', 'party', 'passed', 'passenger', 'passes', 'passing', 'past', 'pasta', 'pasted', 'pastries', 'pat', 'patelveer2687', 'paths', 'patients', 'patrick', 'patrishabaguin', 'patrol', 'patronus', 'paulg_man', 'paulsen', 'pavxn8dijr', 'paying', 'payment', 'pc', 'pc5jnupvfb', 'pci4coxxek', 'peace', 'peachresist', 'peaked', 'peing_haihutrunks', 'penelope', 'pentaghastly', 'people', 'perfect', 'perfectly', 'perform', 'performance', 'performers', 'performing', 'performs', 'perfume', 'persecutor', 'persisting', 'person', 'personal', 'pes', 'pesto', 'pet', 'peter', 'peterjmarshall', 'petridishes', 'pettymamii', 'pettyspice', 'petulant', 'phil', 'phila_mo', 'philromantic', 'philwright7', 'phone', 'phones', 'photo', 'photocards', 'photographed', 'photographer', 'photography', 'photos', 'pic', 'pics', 'picture', 'pictures', 'picturised', 'pidoli', 'piece', 'pigeons', 'piggyback', 'pile', 'pinkyfaye', 'pins', 'pioneering', 'pisces', 'pitch', 'pittcon', 'pk0ohg', 'pl', 'place', 'plan', 'planar', 'plane', 'planned', 'planning', 'plans', 'plant', 'plastics', 'plate', 'platelets', 'platform', 'play', 'playboyd_', 'played', 'player', 'players', 'playing', 'playlist', 'plays', 'playstation', 'plcwjtancr', 'please', 'pleaseeee', 'pleasehelp', 'pleasure', 'pledge', 'plenty', 'plmusic', 'pls', 'pm', 'pnefc', 'po', 'po576pq8wv', 'pods', 'poetry', 'poiar', 'point', 'pokemon', 'pokergyan', 'political', 'politics', 'polled', 'ponders', 'pooja_69', 'poole', 'pop', 'popular', 'porn', 'porno', 'pose', 'posit', 'positive', 'possible', 'post', 'posted', 'posting', 'pottermore', 'potus', 'power', 'powerful', 'ppl', 'pr', 'practiced', 'practicing', 'pradesh', 'praise', 'praisepjm', 'prayers', 'preamble', 'precious', 'predict', 'prefer', 'premier', 'premiere', 'premierleague', 'prep', 'prepare', 'pres', 'present', 'presented', 'president', 'presidential', 'pressure', 'prestonsteve933', 'pretty', 'prevention', 'preview', 'price', 'prices', 'priest', 'priesthood', 'priests', 'prime', 'prince', 'princess', 'print', 'prints', 'privacy', 'privil', 'priyankac19', 'priyankkharge', 'prizesquad', 'pro', 'probably', 'problem', 'problems', 'proce', 'procurement', 'prodeegy', 'producers', 'productive', 'prof', 'professional', 'profit', 'program', 'prologve_', 'promise', 'promoting', 'promotion', 'pronounce', 'proof', 'propaganda', 'proper', 'properly', 'prophet', 'prot', 'protection', 'proud', 'prove', 'provide', 'province', 'prst_official_', 'ps4', 'ps4share', 'psa', 'psych', 'psycho', 'pt', 'pu', 'pub', 'puerto', 'puertoricopur', 'pulaskifootball', 'pull', 'pumezazibi', 'pumpkin', 'punched93', 'puppets', 'purchased', 'purple', 'purpose', 'purring', 'pursued', 'push', 'pussy', 'put', 'putin', 'puts', 'putting', 'pvjg9mbyeu', 'pvtjokerus', 'pvuh1avj5t', 'pxfacyaiqd', 'pydv6ugfnx', 'q2y9uvcbjj', 'qaeda', 'qatadah', 'qclra3rukn', 'qczxmo78ge', 'qek36wuuur', 'qfmdlk3kjl', 'qgirl222266_k', 'qkoptmn5eq', 'qn5a3waarg', 'qnxrstzidk', 'qocoagctdn', 'qohtwxakns', 'qpr', 'qq0ffxxcmv', 'qs6dyd5jnb', 'qtxb5ik7jj', 'quasarchwe', 'quavo', 'question', 'quiet', 'quit', 'quixotic', 'quote', 'quoting', 'quqsdb0xzq', 'qworldstar', 'r2y5phtdnl', 'rabbit', 'racist', 'radio', 'rain', 'raised', 'rambo', 'ran', 'random', 'randy', 'rank', 'ranked', 'ranking', 'rantyamycurtis', 'rapmonpictures', 'rappingtae', 'rare', 'rashford', 'rate', 'rather', 'rating', 'ratings', 'raw', 'rays', 'razssqnwua', 'razzi_parks', 'rb77rkcndc', 'rbairner', 'rcwvn6gsiz', 're', 'rea', 'reach', 'reaction', 'reactions', 'reactlve', 'read', 'reading', 'reads', 'real', 'realdenisewelch', 'realdesigirls', 'realdonaldtrump', 'reality', 'realize', 'really', 'reason', 'receipt', 'recent', 'recently', 'recipes', 'recommend', 'recommendations', 'record', 'rector', 'recycled', 'red', 'redpill', 'ree_tumii', 'ref', 'referred', 'reform', 'regan', 'regardless', 'registability', 'regularly', 'rehana_one', 'rejects', 'relation', 'relationship', 'relationships', 'relatlonshlp', 'released', 'releases', 'religious', 'remarkable', 'remembe', 'remember', 'remembered', 'remind', 'reminders42', 'remix', 'removing', 'renegade', 'renniercuevas24', 'rep', 'repadamschiff', 'replies', 'reply', 'report', 'reported', 'represented', 'repstevensmith', 'reputation', 'request', 'requested', 'research', 'residential', 'resides', 'resigned', 'resistance', 'resisting', 'resolution', 'resolutions', 'resolve', 'resort', 'respect', 'respected', 'responsible', 'rest', 'rested', 'restore', 'resulting', 'retire', 'retro', 'retrozapped', 'retweet', 'retweets', 'reuterslegal', 'reveals', 'revenue', 'rey', 'reykenobe', 'reynolds2g', 'rhapsodani', 'rhyocid', 'riccirivero06', 'richard', 'richjolly', 'rick', 'rickandmorty_tv', 'rickyvaughn_ii', 'rico', 'ridiculous', 'right', 'rights', 'ril40', 'rin2syfwta', 'ring', 'rings', 'riptide', 'rises', 'rkdukor', 'rkogtti8xo', 'rly', 'rmohi07ptp', 'rn', 'rnu', 'rnuql1dcqs', 'ro', 'ro4cu4k1g8', 'road', 'roads', 'robin', 'robin_hd_yt', 'robinbrenizer', 'robinson', 'rock', 'rockineve', 'rogerbaer2010', 'rogerlovesbobs', 'roguefirstlady', 'rolandlim10', 'roll', 'rolled', 'rolleiflex', 'rolls', 'romance', 'romantic', 'rome', 'romelu', 'ronaldo', 'roof', 'room', 'rose', 'rosefollowers', 'rosie', 'rosieposii_', 'rosychani', 'rotors', 'rovers', 'row', 'rowling', 'royal', 'royaldraw', 'royalfamily', 'royaljoons', 'royall2x_', 'royce', 'rpfiyjkgne', 'rqgzkljjgg', 'rqihiwcgoq', 'rrbc', 'rsk8f9fdx2', 'rt', 'rt7y3vff92', 'rte', 'rteone', 'rubbish', 'ruby', 'rudely', 'rumwkqlvrb', 'run', 'runs', 'rusqpjtnup', 'russia', 'russian', 'rv9ku5ongx', 'rvsathakh8', 'rxbntfenob', 'rypjhufbr9', 'ryuu', 'ryux8oqyuz', 'rziacupgti', 's2b55tqw62', 's4iuqmw46g', 'sa', 'sabhi', 'sabra', 'sabschnapp', 'sad', 'saedjpg', 'saekzqn0ic', 'sagittarius', 'sahouraxo', 'said', 'saintsfc', 'salary', 'sale', 'salisburyfc', 'salt', 'sam', 'same', 'samsung', 'samyab01ei', 'san', 'sant', 'santa', 'santos', 'sarah_fender', 'sarahkendzior', 'sasvanth123', 'satirical', 'satisfied', 'saturday', 'save', 'saved', 'saves', 'saw', 'say', 'saying', 'says', 'sbs', 'sbsgayodaejun2017', 'sbs가요대전', 'sc', 'scandal', 'scared', 'scarlett', 'scary', 'scene', 'school', 'schutte', 'science', 'scientists', 'score', 'scored', 'scorer', 'scorers', 'scores', 'scorpio', 'scorpios', 'scotia', 'scream', 'sd7eckxjxr', 'se', 'sea', 'sean', 'search', 'season', 'seat', 'seats', 'sec', 'second', 'secular', 'secure', 'securities', 'security', 'see', 'seed', 'seedanerun', 'seeds', 'seeing', 'seem', 'seemed', 'seems', 'seen', 'sees', 'seinsaiyan', 'selcas', 'selected', 'self', 'selfie', 'selfies', 'selfish', 'sell', 'sellers', 'semi', 'send', 'sending', 'senior', 'sense', 'sensitive', 'sensors', 'sent', 'seogirlsophia', 'seokjin', 'seoul', 'seqeul', 'sequence', 'sequential', 'sergei', 'serious', 'seriously', 'served', 'server', 'service', 'set', 'seulgi', 'seulgom', 'sevdalimdelice', 'seventeen', 'sex', 'sexcams', 'sexfactsoflife', 'sexist', 'sexual', 'sexually', 'sff8elescg', 'sfn', 'shackles', 'shadow', 'shahidkapoor', 'shakazulu36', 'shall', 'shame', 'shameful', 'shane', 'shapiro', 'share', 'shared', 'shashitharoor', 'shazam', 'she', 'sheagles', 'sheen', 'sheep', 'sheets', 'sheila', 'shellywelly53', 'shennafoxmusic', 'shepherd', 'sheriffclarke', 'shhhhh', 'shilpa', 'shinee', 'shingles', 'shinkage', 'shit', 'shits', 'shitty', 'shivraj', 'shjxbuybge', 'shoes', 'shook', 'shoot', 'shooting', 'shootyourshot2017', 'shop', 'short', 'shots', 'should', 'shout', 'shouted', 'shovel', 'show', 'showcasing', 'showdown', 'showerthlnking', 'shown', 'shows', 'shut', 'shutout', 'side', 'sided', 'sidlowe', 'sight', 'signal', 'signals', 'sigov', 'silence', 'simpest', 'simple', 'simply', 'simplykd_', 'sin', 'since', 'sing', 'singh', 'single', 'sinner', 'sir', 'sirsreesanth', 'sis', 'sister', 'sisters', 'sit', 'sites', 'sitting', 'situations', 'siulrckoso', 'six', 'sixers', 'sixes', 'sixsecondcover', 'size', 'sizede', 'skill', 'skin', 'skinning', 'skinny', 'skirt', 'sky', 'skynews', 'skyrim', 'skysportsstatto', 'slams', 'slants', 'slapchic', 'slaphead1001', 'sleep', 'sleepy', 'slipped', 'slippers', 'slow', 'slowly', 'slushiimusic', 'sm', 'smacking', 'small', 'smart', 'smfh', 'smh', 'smile', 'smith', 'smolgerbil', 'snack', 'snail', 'snapchatting', 'snatch', 'snow', 'snowflakenudger', 'snowyfun', 'snugglepunk', 'so', 'socappspec', 'soccer_nut8', 'social', 'socialmedia', 'socks', 'soft', 'soggy', 'sogkwmjvsy', 'soil', 'solar', 'sold', 'sole', 'some', 'somebody', 'somehow', 'someone', 'somerville', 'something', 'sometimeish', 'son', 'sonakshisinha', 'song', 'songs', 'soompi', 'soon', 'soonyoung', 'soooooo', 'soothing', 'soreiatable', 'soribada', 'sorority', 'sorry', 'soulfullymade_', 'soulmate', 'sound', 'soundcloud', 'soundproof', 'sounds', 'source', 'sources', 'southampton', 'space', 'space_station', 'spaceships', 'sparks', 'spaza', 'speak', 'speakers', 'special', 'specialist', 'specially', 'specials', 'specific', 'speechboy71', 'spencer', 'spend', 'spent', 'sperm', 'sphinxfall', 'spidermanps4', 'spideyvigilante', 'spinning', 'splash', 'spoiled', 'spoiledashley_', 'spoken', 'sponsored', 'spontaneous', 'sporf', 'sport', 'sportingnews', 'sportplaylists', 'sportscenter', 'sportsroadhouse', 'spotify', 'spotifylutrax', 'spreading', 'spreads', 'spring', 'spurs', 'spursintheblood', 'spursofficial', 'sq0wo9xnh9', 'sqbg', 'sqpd4qgpay', 'squad', 'squawka', 'src', 'srl0w8nunx', 'sry', 'ssilverssurfer', 'ssvn68jd54', 'stage', 'stages', 'stairs', 'stallman', 'star', 'starplus', 'stars', 'start', 'started', 'starting', 'starts', 'state', 'states', 'station', 'statistics', 'status', 'stay', 'stayblessed', 'stays', 'stayunbothered', 'stds', 'steal', 'stealer', 'steelethoughts', 'stem', 'step', 'steve', 'steveco733', 'stick13ear', 'still', 'stillgray', 'stillness', 'stitcher', 'stoat', 'stock', 'stodgy', 'stoke', 'stomach', 'stone', 'stop', 'stopped', 'store', 'stories', 'storm', 'story', 'storyline', 'straight', 'strangelilbird_', 'stranger', 'strategy', 'straws', 'stray', 'stream', 'streaming', 'street', 'strength', 'stress', 'stressing', 'stri', 'striker', 'string', 'stripers', 'strong', 'stronger', 'struggling', 'stuck', 'student', 'study', 'stuff', 'stupid', 'stupidosaur', 'sturgis', 'stylist', 'subhanallah', 'subject', 'subtitles', 'subway', 'success', 'successful', 'such', 'suck', 'sucking', 'suga', 'sugakookielove', 'sugar', 'sugaree_blend', 'suggest', 'sugod', 'suicidal', 'suit', 'summer', 'summit', 'sunburnfestival', 'sunday', 'sungjinsfw', 'sunshine', 'super', 'superstars', 'supp', 'supply', 'support', 'supposed', 'sure', 'surgery', 'surgical', 'surprise', 'surrendered', 'surround', 'surrounded', 'survanso', 'surviving', 'susan', 'suspended', 'suspense', 'svt', 'swag', 'swagger', 'swear', 'swedish', 'sweepstakes', 'sweet', 'sweetdajavu', 'swift', 'swingin', 'switch', 'switched', 'swnb3qzw0s', 'syedsalehabbas', 'symposium', 'sync', 'syria', 'syrian', 'system', 't2f1govbjn', 't2uzwzf5u2', 't7ac8xymjj', 't_s_p_o_o_k_y', 'tables', 'taco', 'tactic', 'taddlequest', 'tadic', 'taecyeon', 'taegukcult', 'taeholic_v', 'taehyung', 'taekook', 'taekookayth', 'tag', 'tagging', 'taijjx1ebd', 'taipxgl6ku', 'taiwan', 'take', 'takes', 'taking', 'takiya', 'talk', 'talking', 'tammysdragonfly', 'tangy', 'tank', 'tantalizing', 'tantray', 'taste', 'tatasky', 'tatianamae_', 'taurus', 'tax', 'taxi', 'taxis', 'taxpayer', 'taylor', 'taylorsandss', 'tb_times', 'tcha', 'tdwbm0g2d3', 'tea', 'teacher', 'team', 'teamdignitas', 'teamhappy', 'teamjuju', 'teamkpty_orig26', 'teams', 'teamwork', 'teapainusa', 'tears', 'techspot', 'teddy', 'tedtalks', 'tedtalksindianayisoch', 'teen', 'teenparty', 'tell', 'teller', 'telling', 'tells', 'temptation', 'tennant', 'tera', 'term', 'terms', 'terrain', 'terrible', 'terrifictuesday', 'terrorists', 'tesco', 'texas', 'text', 'texted', 'tf', 'tfcknsar', 'tfrrhdb2i6', 'tglcvbhzma', 'tgod', 'tgsjustine', 'tgymb3csua', 'th', 'thaaaat', 'thaanaaserndhakoottam', 'thakuri_mee', 'thalapathy', 'than', 'thank', 'thankful', 'thanks', 'thankyou', 'that', 'that_should_be_me', 'thatgaldemi', 'thatlawyercat', 'thatssarcasm', 'the', 'thebaemarcus', 'thebarmyarmy', 'theblacklabel', 'thebrittdoll', 'thebtsboyz', 'thebtsmutuals', 'thecodexnetwork', 'thedailybeast', 'thediycrafts', 'thedweck', 'thefuture', 'thehill', 'thehornygeordie', 'their', 'them', 'themarkpantano', 'themauskovicdanceband', 'themissingcompy', 'themselves', 'then', 'thenewmusicbuzz', 'theoldsquid', 'theonicole', 'theories', 'theorists', 'theory', 'therapist', 'theraxar', 'there', 'therevprev', 'therickydavila', 'these', 'thespideybugle', 'thesupercole', 'thetrendingvids', 'theweirdworld', 'they', 'thezebrafox', 'thick', 'thindulge', 'thing', 'things', 'think', 'thinking', 'thinks', 'third', 'this', 'tho', 'thomas1774paine', 'those', 'though', 'thought', 'thoughts', 'thread', 'threatened', 'three', 'threes', 'thrice', 'through', 'throughout', 'throw', 'throwback', 'thug', 'tide', 'tiffany', 'tiffanysaoa', 'tig7foygxb', 'tight', 'tilcophoto', 'tim', 'time', 'timelapse', 'times', 'timothytops', 'timotius___10', 'tinkerniell', 'tiny', 'tip', 'tired', 'title', 'tito', 'tl', 'tlr', 'tmz', 'tn', 'to', 'tobiasarchie', 'today', 'together', 'told', 'tom', 'tom_lutz', 'tomcottonar', 'tomer', 'tomgunner14', 'tomi', 'toneisreal', 'tonight', 'tonighttt', 'too', 'took', 'top', 'toplesstits', 'tops', 'torrilla', 'total', 'totally', 'totsou', 'tottenham', 'totti', 'touch', 'tough', 'tour', 'tournament', 'tow4oas9rv', 'towards', 'town', 'towns', 'toxic', 'toy', 'tr5mrm6mnb', 'tra', 'trac', 'track', 'tracked', 'trade', 'traditions', 'traffic', 'trafford', 'train', 'trainee', 'transfer', 'transgender', 'transponder', 'trash', 'travelers', 'trayloading', 'treasonous', 'treatment', 'treats', 'trebles', 'trecru', 'tree', 'trees', 'tremendous', 'trending', 'trial', 'tribalfootball', 'tribune', 'tribute', 'trick', 'tricks', 'tries', 'trillions', 'triple', 'trips', 'troll', 'tron', 'tronaldpump', 'trooper', 'trooth_be_told', 'tropaldub', 'trophy', 'trophyhunti', 'trouble', 'troubles', 'trs2ndblockbusterday', 'tru', 'true', 'truebluecfc1', 'trueindology', 'truest', 'truly', 'trump', 'trumptrain45pac', 'trumptreason', 'trusted', 'truth', 'try', 'trying', 'tryna', 'tsemtulku', 'tsk', 'tsrgud59qk', 'tta0wk004f', 'tuesday', 'tunahater', 'turkey', 'turkey_home', 'turn', 'turned', 'turns', 'tuscany', 'tv', 'tvzsa', 'tw4rw', 'twas', 'twe', 'tweet', 'tweets', 'twice', 'twits', 'twitter', 'twittersafety', 'twittersupport', 'twitterworld', 'two', 'txelz6oqfh', 'tyler', 'tyonna_moss', 'type', 'tyron', 'tznqj7pvh8', 'u0o9358fhk', 'u4ls7x8ihq', 'ua2puy241x', 'uber', 'ufjplhnpuc', 'ug5zg5xrdy', 'ugh', 'ugly', 'uh', 'uhd', 'uhr', 'uk', 'uktx4of149', 'ulhpoq9op4', 'ultimate', 'ultimately', 'un', 'una', 'unapologeticwalking', 'unblockable', 'unbzczate8', 'uncle', 'uncompare', 'uncoolmanuel', 'under', 'understand', 'unexpectedly', 'unexplained', 'unf', 'unfinished', 'unfollowed', 'unfortunately', 'unhappy', 'united', 'universe', 'universities', 'unless', 'unlimited', 'unpleasantbabe', 'unproductive', 'unquenchable', 'unraveled', 'unsubscribe', 'unsubtledesi', 'until', 'untold', 'unwilling', 'up', 'upcoming', 'update', 'upgraded', 'upload', 'upon', 'upset', 'upz7tsqn5t', 'uqrnqxsava', 'ur', 'ur4kv9mlcf', 'urself', 'us', 'usa', 'use', 'used', 'useful', 'uses', 'usual', 'usually', 'utahn', 'utdxtra', 'utmost', 'utrust', 'utrust_official', 'utter', 'uv_creations', 'uvo2jexl', 'uwnrqgylpr', 'uwnvqdwovl', 'uzrxv4osap', 'v2sifrwxuc', 'v3scoe', 'v41bjzn6dv', 'v5irhyszjc', 'v7rhlz3ii4', 'v_of_europe', 'vaaness_', 'vadrlftuqg', 'vaguely', 'value', 'van', 'vanarama', 'vanessamerrell', 'vantaekim', 'varietydeals', 'various', 've', 'vectorunit', 'vega', 'velcro', 'velvet', 'venue', 'ver', 'veri', 'verif', 'verily', 'verse', 'version', 'vertical', 'very', 'vet', 'vevur8gxpj', 'vf3q2qm1bo', 'vffbimudwb', 'vhchgncmpu', 'via', 'vicar', 'vicegandako', 'vicki', 'vicky_vjmsd', 'victon1109', 'victorcurry5', 'victoriaosteen', 'victorious', 'video', 'videomtv2017', 'vietnam', 'view', 'viewers', 'vikings', 'vile', 'vinyl', 'violaxeade', 'virgo', 'virgos', 'vital', 'vitus_carnage', 'vivid', 'vlive', 'vliveofficial', 'vmylro1ju9', 'vocal', 'vocradiorobdoc', 'vodafone', 'voduvanimuchata', 'voice', 'volte', 'vote', 'voted', 'voting', 'vr', 'vs', 'vudhwkxy6n', 'vuhkqdpmbv', 'vvcecha3yo', 'vwf5j2rh17', 'vwnmvmpvw0', 'vy2fmkmpsc', 'w1', 'w7ez86pskv', 'w8psnqa8eu', 'w96ksgdq0i', 'wacbyvbtdd', 'wafilahh', 'wagers', 'wagkelly', 'wagner', 'wait', 'waiting', 'wake', 'walk', 'walking', 'wallpaper', 'walter_lars', 'wank', 'wanna', 'wanna1pics', 'wannaone', 'want', 'wanted', 'wants', 'war', 'warm', 'warns', 'wars', 'warship', 'was', 'wash', 'washington', 'washingtonpost', 'wasn', 'wastewater', 'watch', 'watching', 'water', 'watkins', 'watkiss', 'wave', 'way', 'wayfarermarine1', 'ways', 'wbaeve', 'wcsjfddxpe', 'we', 'weak', 'weareo', 'weareoneexo', 'wearing', 'webcamgirllive', 'wedding', 'week', 'weekdays', 'weekend', 'weeks', 'wel', 'welco', 'welcome', 'well', 'wells', 'wembley', 'were', 'west', 'wet', 'wetin', 'wha', 'what', 'whatever', 'whatsapp', 'when', 'where', 'whether', 'which', 'while', 'whispersystems', 'white', 'whitemamba46', 'whni284o8a', 'who', 'who_aashish_', 'whole', 'whore', 'whose', 'why', 'wi', 'wi2wwsjduf', 'wide', 'wife', 'wig', 'wild', 'wildschuts', 'will', 'williemaikit1', 'wilson', 'win', 'windows', 'winkchams', 'winnipeggers', 'wins', 'winst', 'winter', 'wise', 'wish', 'wishing', 'wistful', 'witch', 'with', 'without', 'wizkidayo', 'wizkidsource', 'wmvubzrcfn', 'woahimapotato', 'woke', 'wolfgangkapitan', 'woman', 'women', 'womeninscience', 'womeninstem', 'womenoccupyhwd', 'won', 'wonder', 'wonderful', 'wondering', 'wonwoo', 'woodhull', 'woods', 'woojin', 'worcestercityfc', 'word', 'words', 'work', 'workfromhome', 'working', 'workout', 'works', 'world', 'worldstar', 'worries', 'worry', 'worst', 'wort', 'worth', 'worthless', 'wouk2rww75', 'would', 'wow', 'wozd1z4asx', 'wp', 'wqccd2zrng', 'wr', 'wright', 'write', 'writers', 'writes', 'writing', 'written', 'wrong', 'wrote', 'wrpsrockland', 'wstxaha1nk', 'wt', 'wwe', 'x4beafka7k', 'x8s9qfzs2n', 'x9pui8ewsv', 'xbox', 'xcwupvvbwl', 'xdelantero09x', 'xefrjct7l6', 'xf7kkpvjre', 'xfabc9fwq2', 'xfb44lzy5a', 'xgww15h2cp', 'xinyjnuyyj', 'xiumin', 'xjnzpjnkbv', 'xm7miyb4sj', 'xmas', 'xmrmy9qtu4', 'xnndfvkklm', 'xo', 'xomeizhang', 'xonotes', 'xqw0o8qum9', 'xqwld78ect', 'xro9w64kzw', 'xrqmpcnzpr', 'xtreme', 'xvv4leo1wf', 'xvwcjkpezh', 'xx', 'xxx', 'xxxx', 'xyfyrueoya', 'y2aiwdsimg', 'y2shaf', 'y4lnomqqgj', 'y5ynb9wt15', 'y9naeuywci', 'ya', 'yagyuu', 'yang', 'yasoobean', 'yazfp5fgoe', 'ybj9pa6qwk', 'ycxxs9zlak', 'ye', 'yeaaaah', 'yeab8f6ogf', 'yeah', 'year', 'years', 'yeeeey', 'yeezus', 'yeginsu', 'yep', 'yeri', 'yes', 'yesterday', 'yet', 'ygent_official', 'yhcnwtrqcm', 'yiff', 'yjmpgt9vmn', 'yjzz43v9r5', 'yk555pus5p', 'ylkuvx3eec', 'yngvp05awq', 'ynn2zpnxwe', 'ynuxxwxzyy', 'ynwa', 'yo', 'yo_cj', 'yocn6jsnfv', 'yodyb2nl41', 'yoongi', 'yoongiposts', 'yoonjin', 'yooooo', 'yorksifa', 'yorubas', 'you', 'youhoestopic', 'young', 'younow', 'your', 'yours', 'yourself', 'youtube', 'yprkol0eqf', 'yr', 'ys', 'yuletide', 'yumcha', 'yupkirsten', 'yuvraj', 'yw7tqxgkuz', 'ywvixtqnhi', 'yxtkb9dveo', 'yyyehwjhmu', 'z1hq0csyfr', 'z2fgbkf9zz', 'zachey_pauley', 'zacks', 'zara', 'zazgdmd8fi', 'zendaya', 'zeqarlhnm9', 'zero', 'zerohedge', 'zi5ryycyxa', 'zikson_b', 'zixgxcfhkx', 'zkbc3x3fsp', 'zodiac', 'zombiemom00', 'zona', 'zone', 'zoo', 'zoqlzm6fd3', 'zoqxzljxg2', 'zoster', 'zotgm6szge', 'zoya', 'zppmfblw2z', 'zrydfi8cgi', 'zs9mfxfi1p', 'ztjehbv5u9', 'zu7u8udaas', 'zundzkwhje', 'zunxkuqidf', 'मश', '➊follow', '➋like', '➌follow', '➍follow', '質問箱', '가요대전', '경수', '디오', '민현', '백현', '부산', '블랙핑크', '엑소', '워너원', '지수', '택연', '황민현']\n",
            "(1000, 5100)\n",
            "[7.2156076  6.81014249 7.2156076  ... 7.2156076  7.2156076  7.2156076 ]\n",
            "  (0, 3375)\t0.48240065007302313\n",
            "  (0, 984)\t0.11406957348391668\n",
            "  (0, 2155)\t0.11246497245526342\n",
            "  (0, 1925)\t0.48240065007302313\n",
            "  (0, 2243)\t0.1969493145949549\n",
            "  (0, 957)\t0.4360601796521979\n",
            "  (0, 3045)\t0.22643619063076748\n",
            "  (0, 3310)\t0.2970387683897221\n",
            "  (0, 897)\t0.3748014098726122\n",
            "  (1, 1134)\t0.37244200318137816\n",
            "  (1, 4926)\t0.26844043340138846\n",
            "  (1, 4420)\t0.12080300645007713\n",
            "  (1, 3314)\t0.2562389508752284\n",
            "  (1, 334)\t0.20232353876468256\n",
            "  (1, 3354)\t0.37244200318137816\n",
            "  (1, 1015)\t0.37244200318137816\n",
            "  (1, 3308)\t0.24207357295506898\n",
            "  (1, 4506)\t0.13197720298265064\n",
            "  (1, 5032)\t0.14104659705822578\n",
            "  (1, 4411)\t0.26197999177561204\n",
            "  (1, 605)\t0.26844043340138846\n",
            "  (1, 1562)\t0.37244200318137816\n",
            "  (1, 984)\t0.08806849751127886\n",
            "  (1, 2155)\t0.08682965004843225\n",
            "  (2, 98)\t0.6883848650751233\n",
            "  :\t:\n",
            "  (997, 898)\t0.32557001047267287\n",
            "  (997, 489)\t0.32557001047267287\n",
            "  (997, 4664)\t0.32557001047267287\n",
            "  (997, 3398)\t0.268249952469991\n",
            "  (997, 1712)\t0.3182792256894206\n",
            "  (997, 2863)\t0.39814978176472254\n",
            "  (997, 3265)\t0.22397334032310542\n",
            "  (997, 786)\t0.22905605702826737\n",
            "  (997, 3387)\t0.23178661503536496\n",
            "  (997, 372)\t0.14678599392710964\n",
            "  (997, 984)\t0.09315919791377288\n",
            "  (997, 2155)\t0.0918487402673083\n",
            "  (998, 3581)\t0.5399915063261038\n",
            "  (998, 4898)\t0.4622193500885649\n",
            "  (998, 3498)\t0.4994869943535271\n",
            "  (998, 935)\t0.3153396516106881\n",
            "  (998, 1206)\t0.3628849582815743\n",
            "  (998, 3824)\t0.11895629090585993\n",
            "  (999, 1411)\t0.41848832710996164\n",
            "  (999, 3006)\t0.41848832710996164\n",
            "  (999, 3970)\t0.41848832710996164\n",
            "  (999, 2830)\t0.41848832710996164\n",
            "  (999, 3694)\t0.41848832710996164\n",
            "  (999, 3824)\t0.08700959074053989\n",
            "  (999, 2243)\t0.34171176667286746\n"
          ],
          "name": "stdout"
        }
      ]
    },
    {
      "cell_type": "markdown",
      "metadata": {
        "id": "Q42Xv8ew5RzK"
      },
      "source": [
        ""
      ]
    },
    {
      "cell_type": "code",
      "metadata": {
        "id": "1pjNY3H9m5-U"
      },
      "source": [
        "'''\r\n",
        "tf_idf = {}\r\n",
        "for i in range(N):\r\n",
        "    tokens = processed_text[i]\r\n",
        "    counter = Counter(tokens + processed_title[i])\r\n",
        "    for token in np.unique(tokens):\r\n",
        "        tf = counter[token]/words_count\r\n",
        "        df = doc_freq(token)\r\n",
        "        idf = np.log(N/(df+1))\r\n",
        "        tf_idf[doc, token] = tf*idf '''"
      ],
      "execution_count": null,
      "outputs": []
    },
    {
      "cell_type": "markdown",
      "metadata": {
        "id": "T4Uo77WFKJOA"
      },
      "source": [
        "TF gives high values to stop-words which actually is considered to be less important "
      ]
    },
    {
      "cell_type": "markdown",
      "metadata": {
        "id": "EwxJM9Rdm5-U"
      },
      "source": [
        "## 6) Duplicates or near duplicates\n",
        "\n",
        "* Check whether we have duplicate tweets (in terms of text field only) in our dataset. Duplicate tweet means here that the exactly same tweet text appears more than once in our dataset.\n",
        "* Note: It makes sense to check the duplicates using original tweet texts as the texts were before segmentation. I would also recommend using the full 10,000 dataset here in order to get higher chance of seeing duplicates (this does not require heavy computing).\n",
        "* Try to check whether tweets have additional near-duplicates. Near duplicate means here that tweet text is almost the same in two or more tweets. Ponder what kind of near duplicates there could be and how to find those. Start by considering for example different normalization techniques. Implement some of the techniques you considered.\n",
        "* **The outcome of this exercise** should be a number of unique tweets in our dataset (with possibly counting also which are the most common duplicates) as well as the number of unique tweets after removing also near duplicates."
      ]
    },
    {
      "cell_type": "code",
      "metadata": {
        "id": "1Jt0sZrSm5-V"
      },
      "source": [
        ""
      ],
      "execution_count": null,
      "outputs": []
    }
  ]
}